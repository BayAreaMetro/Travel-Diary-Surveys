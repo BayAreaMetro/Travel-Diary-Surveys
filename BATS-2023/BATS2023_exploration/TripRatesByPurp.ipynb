{
 "cells": [
  {
   "cell_type": "code",
   "execution_count": 23,
   "id": "a6ea46f0",
   "metadata": {},
   "outputs": [
    {
     "name": "stdout",
     "output_type": "stream",
     "text": [
      "Linked trip file copied from:\n",
      "M:\\Data\\HomeInterview\\Bay Area Travel Study 2023\\Data\\Processed\\TripLinking_20250728\\03b-assign_day\\wt-wkday_3day\\trip.csv\n",
      "to:\n",
      "M:\\Data\\HomeInterview\\Bay Area Travel Study 2023\\Data\\Processed\\TripLinking_20250728\\Linked_Trip_Analysis\\trip_linked.csv\n"
     ]
    }
   ],
   "source": [
    "# intial tabulation of linked trips from BATS 2023\n",
    "# background:\n",
    "# this analysis uses the linked trip analysis ran on 20250728\n",
    "# which uses the tue to thu weighted data from February 2025 (WeightedDataset_02212025)\n",
    "# the config for the trip linking process can be found in: https://github.com/ZephyrTransport/travel-diary-survey-tools/blob/df723a6376c0859b34e0fec89206c681b485353d/config/pipeline_config_mtc.toml\n",
    "\n",
    "import shutil\n",
    "\n",
    "# Make a copy of the linked trip file to a new analysis folder\n",
    "TripLinking_csv = r\"M:\\Data\\HomeInterview\\Bay Area Travel Study 2023\\Data\\Processed\\TripLinking_20250728\\03b-assign_day\\wt-wkday_3day\\trip.csv\"\n",
    "TripLinking_csv_renamed = r\"M:\\Data\\HomeInterview\\Bay Area Travel Study 2023\\Data\\Processed\\TripLinking_20250728\\Linked_Trip_Analysis\\trip_linked.csv\"\n",
    "\n",
    "shutil.copy(TripLinking_csv, TripLinking_csv_renamed)\n",
    "\n",
    "print(f\"Linked trip file copied from:\\n{TripLinking_csv}\\nto:\\n{TripLinking_csv_renamed}\")"
   ]
  },
  {
   "cell_type": "code",
   "execution_count": 24,
   "id": "3e30d9ba",
   "metadata": {},
   "outputs": [],
   "source": [
    "import pandas as pd\n",
    "from enum import Enum\n",
    "\n",
    "# Read the linked trip file\n",
    "LinkedTrips_filepath = r\"M:\\Data\\HomeInterview\\Bay Area Travel Study 2023\\Data\\Processed\\TripLinking_20250728\\Linked_Trip_Analysis\\trip_linked.csv\"\n",
    "LinkedTrips_df = pd.read_csv(LinkedTrips_filepath)\n",
    "\n",
    "# Define enums for mode, path and purpose\n",
    "class Mode(Enum):\n",
    "    OTHER = 0\n",
    "    WALK = 1\n",
    "    BIKE = 2\n",
    "    DA = 3\n",
    "    HOV2 = 4\n",
    "    HOV3 = 5\n",
    "    WALKTRAN = 6\n",
    "    DRIVETRAN = 7\n",
    "    SCHBUS = 8\n",
    "    TNC = 9\n",
    "\n",
    "class Path(Enum):\n",
    "    NONE = 0\n",
    "    FULLNETWORK = 1\n",
    "    NO_TOLL_NETWORK = 2 # not used in the current processing\n",
    "    BUS = 3\n",
    "    LRT = 4\n",
    "    PREMIUM = 5\n",
    "    BART = 6\n",
    "    FERRY = 7\n",
    "\n",
    "class Dpurp(Enum):\n",
    "    HOME = 0\n",
    "    WORK = 1\n",
    "    SCHOOL = 2\n",
    "    ESCORT = 3\n",
    "    PERS_BUS = 4\n",
    "    SHOP = 5\n",
    "    MEAL = 6\n",
    "    SOCREC = 7\n",
    "    CHANGE_MODE = 10 # change mode is still in the dataset, but it is only a very small number of linked trips (23 cases)\n",
    "    OTHER = 11\n",
    "    MISSING = -1\n",
    "\n",
    "\n",
    "# Map numeric codes to enum names\n",
    "LinkedTrips_df[\"mode_enum\"] = LinkedTrips_df[\"mode\"].apply(\n",
    "    lambda x: Mode(x).name if x in [m.value for m in Mode] else None\n",
    ")\n",
    "\n",
    "LinkedTrips_df[\"path_enum\"] = LinkedTrips_df[\"pathtype\"].apply(\n",
    "    lambda x: Path(x).name if x in [p.value for p in Path] else None\n",
    ")\n",
    "\n",
    "LinkedTrips_df[\"dpurp_enum\"] = LinkedTrips_df[\"dpurp\"].apply(\n",
    "    lambda x: Dpurp(x).name if x in [d.value for d in Dpurp] else None\n",
    ")\n",
    "\n",
    "# View the first few rows (but make sure no indivdiual records are shown before committing to GitHub)\n",
    "# LinkedTrips_df.head()"
   ]
  },
  {
   "cell_type": "code",
   "execution_count": 38,
   "id": "a6bc97b8",
   "metadata": {},
   "outputs": [
    {
     "name": "stdout",
     "output_type": "stream",
     "text": [
      "trips_byDpurp_df saved to M:\\Data\\HomeInterview\\Bay Area Travel Study 2023\\Data\\Processed\\TripLinking_20250728\\Linked_Trip_Analysis\\trips_byDpurp.csv\n"
     ]
    }
   ],
   "source": [
    "# calculated weighted number of trips by purpose\n",
    "# generate a person-day level trips by destination purpose file\n",
    "trips_byDpurp_df = (\n",
    "    LinkedTrips_df\n",
    "    .groupby(['hhno', 'pno', 'day', 'dpurp_enum'])\n",
    "    .agg(\n",
    "        trip_count=('dpurp_enum', 'size'),  # count number of rows\n",
    "        trexpfac_sum=('trexpfac', 'sum')     # sum trexpfac\n",
    "    )\n",
    "    .unstack(fill_value=0)\n",
    ")\n",
    "\n",
    "# Flatten the MultiIndex columns created by unstack\n",
    "trips_byDpurp_df.columns = ['_'.join(map(str, col)).strip('_') for col in trips_byDpurp_df.columns.values]\n",
    "trips_byDpurp_df = trips_byDpurp_df.reset_index()\n",
    "\n",
    "output_path = r\"M:\\Data\\HomeInterview\\Bay Area Travel Study 2023\\Data\\Processed\\TripLinking_20250728\\Linked_Trip_Analysis\\trips_byDpurp.csv\"\n",
    "trips_byDpurp_df.to_csv(output_path, index=False)\n",
    "print(f\"trips_byDpurp_df saved to {output_path}\")"
   ]
  },
  {
   "cell_type": "code",
   "execution_count": 39,
   "id": "c524c947",
   "metadata": {},
   "outputs": [
    {
     "name": "stdout",
     "output_type": "stream",
     "text": [
      "person_wTripCount_df saved to M:\\Data\\HomeInterview\\Bay Area Travel Study 2023\\Data\\Processed\\TripLinking_20250728\\Linked_Trip_Analysis\\person_wTripCount.csv\n"
     ]
    }
   ],
   "source": [
    "# Read person file\n",
    "person_path = r\"M:\\Data\\HomeInterview\\Bay Area Travel Study 2023\\Data\\Processed\\TripLinking_20250728\\03b-assign_day\\wt-wkday_3day\\person.csv\"\n",
    "person_df = pd.read_csv(person_path)\n",
    "\n",
    "# Join person_df with trips_byDpurp_df (left join to keep all person records) \n",
    "# note that some people participated 1 day, some people participated multiple days, but this is taken care of by the weight\n",
    "person_wTripCount_df = pd.merge(\n",
    "    person_df,\n",
    "    trips_byDpurp_df,\n",
    "    on=['hhno', 'pno'],   \n",
    "    how='left'           \n",
    ")\n",
    "\n",
    "# fill 0 for no trip\n",
    "person_wTripCount_df = person_wTripCount_df.fillna(0)\n",
    "\n",
    "output_path = r\"M:\\Data\\HomeInterview\\Bay Area Travel Study 2023\\Data\\Processed\\TripLinking_20250728\\Linked_Trip_Analysis\\person_wTripCount.csv\"\n",
    "\n",
    "person_wTripCount_df.to_csv(output_path, index=False)\n",
    "print(f\"person_wTripCount_df saved to {output_path}\")\n",
    "\n"
   ]
  },
  {
   "cell_type": "code",
   "execution_count": 41,
   "id": "63afb29c",
   "metadata": {},
   "outputs": [
    {
     "name": "stdout",
     "output_type": "stream",
     "text": [
      "sumTrips_by_pptyp_df saved to M:\\Data\\HomeInterview\\Bay Area Travel Study 2023\\Data\\Processed\\TripLinking_20250728\\Linked_Trip_Analysis\\sumTrips_by_pptyp.csv\n"
     ]
    }
   ],
   "source": [
    "# list of columns to sum\n",
    "cols_to_sum = [\n",
    "    'trexpfac_sum_CHANGE_MODE', 'trexpfac_sum_ESCORT', 'trexpfac_sum_HOME',\n",
    "    'trexpfac_sum_MEAL', 'trexpfac_sum_OTHER', 'trexpfac_sum_PERS_BUS',\n",
    "    'trexpfac_sum_SCHOOL', 'trexpfac_sum_SHOP', 'trexpfac_sum_SOCREC', 'trexpfac_sum_WORK'\n",
    "]\n",
    "\n",
    "# group by pptyp and sum the selected columns\n",
    "sumTrips_by_pptyp_df = (\n",
    "    person_wTripCount_df\n",
    "    .groupby('pptyp')[cols_to_sum]\n",
    "    .sum()\n",
    "    .reset_index()\n",
    ")\n",
    "\n",
    "output_path = r\"M:\\Data\\HomeInterview\\Bay Area Travel Study 2023\\Data\\Processed\\TripLinking_20250728\\Linked_Trip_Analysis\\sumTrips_by_pptyp.csv\"\n",
    "\n",
    "sumTrips_by_pptyp_df.to_csv(output_path, index=False)\n",
    "print(f\"sumTrips_by_pptyp_df saved to {output_path}\")\n",
    "\n"
   ]
  },
  {
   "cell_type": "code",
   "execution_count": 33,
   "id": "23dfbb19",
   "metadata": {},
   "outputs": [
    {
     "name": "stdout",
     "output_type": "stream",
     "text": [
      "Unweighted persons: 15985\n",
      "Weighted persons: 7326898.264751358\n"
     ]
    }
   ],
   "source": [
    "# Read person file\n",
    "person_path = r\"M:\\Data\\HomeInterview\\Bay Area Travel Study 2023\\Data\\Processed\\TripLinking_20250728\\03b-assign_day\\wt-wkday_3day\\person.csv\"\n",
    "person_df = pd.read_csv(person_path)\n",
    "\n",
    "# Count the number of rows (unweighted count)\n",
    "num_persons_unweighted = len(person_df)\n",
    "\n",
    "# Sum the person expansion factor (weighted count)\n",
    "num_persons_weighted = person_df['psexpfac'].sum()\n",
    "\n",
    "\n",
    "print(f\"Unweighted persons: {num_persons_unweighted}\")\n",
    "print(f\"Weighted persons: {num_persons_weighted}\")"
   ]
  },
  {
   "cell_type": "code",
   "execution_count": null,
   "id": "caf2bdfa",
   "metadata": {},
   "outputs": [
    {
     "name": "stdout",
     "output_type": "stream",
     "text": [
      "Unweighted persons (pptyp=1): 8319\n",
      "Weighted persons (pptyp=1): 3225037.287001975\n"
     ]
    }
   ],
   "source": [
    "# I might want to focus on pptyp=1, Full-time worker (age16+), to make the trip rates more intuitive to understand\n",
    "\n",
    "num_pptyp1_unweighted = (person_df['pptyp'] == 1).sum()\n",
    "num_pptyp1_weighted = person_df[person_df['pptyp'] == 1]['psexpfac'].sum()\n",
    "\n",
    "print(f\"Unweighted persons (pptyp=1): {num_pptyp1_unweighted}\")\n",
    "print(f\"Weighted persons (pptyp=1): {num_pptyp1_weighted}\")"
   ]
  },
  {
   "cell_type": "code",
   "execution_count": 45,
   "id": "19334e1f",
   "metadata": {},
   "outputs": [
    {
     "name": "stdout",
     "output_type": "stream",
     "text": [
      "   pptyp  num_persons_unweighted  num_persons_weighted\n",
      "0      1                    8319          3.225037e+06\n",
      "1      2                    1018          7.404677e+05\n",
      "2      3                    2224          9.105070e+05\n",
      "3      4                    1818          8.427431e+05\n",
      "4      5                     731          3.559589e+05\n",
      "5      6                      35          1.251005e+04\n",
      "6      7                    1260          8.891066e+05\n",
      "7      8                     580          3.505676e+05\n"
     ]
    }
   ],
   "source": [
    "# Group by pptyp and calculate num_person\n",
    "num_persons_df = person_df.groupby('pptyp').agg(\n",
    "    num_persons_unweighted=('pptyp', 'size'),\n",
    "    num_persons_weighted=('psexpfac', 'sum')\n",
    ").reset_index()\n",
    "\n",
    "print(num_persons_df)"
   ]
  },
  {
   "cell_type": "code",
   "execution_count": null,
   "id": "0b59650b",
   "metadata": {},
   "outputs": [
    {
     "name": "stdout",
     "output_type": "stream",
     "text": [
      "tripRates_by_pptyp_df_df saved to M:\\Data\\HomeInterview\\Bay Area Travel Study 2023\\Data\\Processed\\TripLinking_20250728\\Linked_Trip_Analysis\\tripRates_by_pptyp_df.csv\n"
     ]
    }
   ],
   "source": [
    "# join num_persons_df with sumTrips_by_pptyp_df on pptyp \n",
    "\n",
    "tripRates_by_pptyp_df = pd.merge(\n",
    "    num_persons_df,\n",
    "    sumTrips_by_pptyp_df,\n",
    "    on='pptyp',\n",
    "    how='left'   # keeps all rows from num_persons_df, adds matches from sumTrips_by_pptyp_df\n",
    ")\n",
    "\n",
    "output_path = r\"M:\\Data\\HomeInterview\\Bay Area Travel Study 2023\\Data\\Processed\\TripLinking_20250728\\Linked_Trip_Analysis\\tripRates_by_pptyp_df.csv\"\n",
    "\n",
    "tripRates_by_pptyp_df.to_csv(output_path, index=False)\n",
    "print(f\"tripRates_by_pptyp_df_df saved to {output_path}\")\n",
    "\n",
    "# the trip rates by person type seems pretty reasonable\n"
   ]
  },
  {
   "cell_type": "code",
   "execution_count": null,
   "id": "8c460b7e",
   "metadata": {},
   "outputs": [],
   "source": [
    "# look at trip rate of telecommuters (work from home 3 or more days a week) vs trip rate of other workers (based on telework_freq)\n",
    "# look at trip rate of people who had a delivery "
   ]
  }
 ],
 "metadata": {
  "kernelspec": {
   "display_name": "test",
   "language": "python",
   "name": "python3"
  },
  "language_info": {
   "codemirror_mode": {
    "name": "ipython",
    "version": 3
   },
   "file_extension": ".py",
   "mimetype": "text/x-python",
   "name": "python",
   "nbconvert_exporter": "python",
   "pygments_lexer": "ipython3",
   "version": "3.12.0"
  }
 },
 "nbformat": 4,
 "nbformat_minor": 5
}
