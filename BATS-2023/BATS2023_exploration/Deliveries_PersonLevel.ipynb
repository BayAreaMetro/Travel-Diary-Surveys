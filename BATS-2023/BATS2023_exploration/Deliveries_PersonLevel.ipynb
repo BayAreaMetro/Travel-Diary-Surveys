{
 "cells": [
  {
   "cell_type": "code",
   "execution_count": 1,
   "id": "adefd4df",
   "metadata": {},
   "outputs": [],
   "source": [
    "import pandas as pd\n",
    "import os\n",
    "\n",
    "# Read input\n",
    "weighted_dataset_dir = r\"M:\\Data\\HomeInterview\\Bay Area Travel Study 2023\\Data\\Full Weighted 2023 Dataset\\WeightedDataset_02212025\"\n",
    "day_file = \"day.csv\"\n",
    "person_file = \"person.csv\"\n",
    "\n",
    "day_path = os.path.join(weighted_dataset_dir, day_file)\n",
    "person_path = os.path.join(weighted_dataset_dir, person_file)\n",
    "\n",
    "day_df = pd.read_csv(day_path)\n",
    "person_df = pd.read_csv(person_path)"
   ]
  },
  {
   "cell_type": "code",
   "execution_count": null,
   "id": "9f63ea3c",
   "metadata": {},
   "outputs": [],
   "source": [
    "# BATS 2023:\n",
    "#delivery_2: Take-out/prepared food delivered to home \n",
    "#delivery_3: Someone came to do work at home (e.g., babysitter, housecleaning, lawn) [not included in delivery_cols below]\n",
    "#delivery_4: Groceries delivered to home\n",
    "#delivery_5: Received packages at home (e.g., USPS, FedEx, UPS)\n",
    "#delivery_6: Received personal packages at work\n",
    "#delivery_7: Received packages at another location (e.g., Amazon Locker, package pick-up point)\n",
    "#delivery_8: Other items delivered to home (e.g., appliance)\n",
    "#delivery_9: Other items delivered to work\n",
    "#delivery_996: None of the above\n",
    "delivery_cols = ['delivery_2', 'delivery_4', 'delivery_5', 'delivery_6', 'delivery_7', 'delivery_8', 'delivery_9']\n",
    "delivery_rows_df = day_df[day_df[delivery_cols].eq(1).any(axis=1)]\n",
    "\n",
    "delivery_persons_df = delivery_rows_df[['person_id']].drop_duplicates()\n",
    "delivery_persons_df['had_delivery'] = 1\n"
   ]
  },
  {
   "cell_type": "code",
   "execution_count": 3,
   "id": "edc4ee77",
   "metadata": {},
   "outputs": [
    {
     "data": {
      "text/plain": [
       "_merge\n",
       "both          8991\n",
       "left_only     6994\n",
       "right_only       0\n",
       "Name: count, dtype: int64"
      ]
     },
     "execution_count": 3,
     "metadata": {},
     "output_type": "execute_result"
    }
   ],
   "source": [
    "person_merged_df = pd.merge(\n",
    "    person_df,\n",
    "    delivery_persons_df,\n",
    "    on='person_id',\n",
    "    how='left',\n",
    "    indicator=True\n",
    ")\n",
    "\n",
    "person_merged_df[\"_merge\"].value_counts()\n"
   ]
  },
  {
   "cell_type": "code",
   "execution_count": null,
   "id": "782bd293",
   "metadata": {},
   "outputs": [
    {
     "name": "stdout",
     "output_type": "stream",
     "text": [
      "Total persons had a delivery: 4499739.2124859635\n",
      "Number of persons in person_df: 7311046.635849543\n",
      "Percent of persons that had groceries delivered: 0.6154712774531624\n"
     ]
    }
   ],
   "source": [
    "# weighted sum of people who received delivery\n",
    "num_person_delivery = (person_merged_df['had_delivery'] * person_merged_df['person_weight_rmove_only']).sum()\n",
    "print(f\"Total number of persons who received a delivery: {num_person_delivery}\")\n",
    "\n",
    "# weighted sum of people who had delivery\n",
    "num_person = person_merged_df['person_weight_rmove_only'].sum()\n",
    "print(f\"Total numbe of persons in person_df: {num_person}\")\n",
    "\n",
    "Percent_Had_Delivery = num_person_delivery / num_person\n",
    "print(f\"Percent of persons who recieved a delivery: {Percent_Had_Delivery}\")"
   ]
  }
 ],
 "metadata": {
  "kernelspec": {
   "display_name": "test",
   "language": "python",
   "name": "python3"
  },
  "language_info": {
   "codemirror_mode": {
    "name": "ipython",
    "version": 3
   },
   "file_extension": ".py",
   "mimetype": "text/x-python",
   "name": "python",
   "nbconvert_exporter": "python",
   "pygments_lexer": "ipython3",
   "version": "3.12.0"
  }
 },
 "nbformat": 4,
 "nbformat_minor": 5
}
