{
 "cells": [
  {
   "cell_type": "markdown",
   "id": "ace69a8e",
   "metadata": {},
   "source": [
    "## Background  \n",
    "This Jupyter Notebook calculates the percentage of households that **do not regularly use highways during peak-hour periods** by income groups.\n",
    "\n",
    "Asana task: https://app.asana.com/1/11860278793487/project/12291104512646/task/1210119087413706?focus=true\n",
    "\n",
    "## Inputs  \n",
    "- `trip.csv`\n",
    "- `household.csv`\n",
    "- `trip_motorway_bridge_boolean.csv`: this is the output of the Jupyter Notebook `Generate_trip_motorway_booleans.ipynb`\n",
    "\n",
    "## Outputs \n",
    "- `percent_noPNBMtrip_by_income.csv`: \n",
    "\n",
    "## Caveats \n",
    "- The results reported are representative of a typical Tue/Wed/Thu\n",
    "\n",
    "- The `highway=motorway` tag in OpenStreetMap (OSM) is not always reliable. For this analysis, we have used it as-is and have not made corrections to its classification. It doesn't look too bad, and I'll share a map soon!\n",
    "\n",
    "-  This analysis includes a time-of-day component. Specifically, it focuses on trips that use the freeway during the peak period. However, because the GeoDataFrame matched_path_gdf does not contain time stamps (double-check this!), I rely on the depart_hour and arrive_hour fields from the trip file. This introduces some limitations, since the freeway segment may occur at any point within the trip duration.\n",
    "\n",
    "    For example:\n",
    "\n",
    "      - If a trip starts at 9:45a and ends at 10:15a, and the first 15 minutes involved freeway travel, it is **correctly counted**.\n",
    "      - If a trip starts at 9:45a and ends at 10:15a, but only the last 15 minutes involved freeway travel, it is **overcounted**.\n",
    "      - If a trip starts at 5:45a and ends at 6:15a, but only the first 15 minutes involved freeway travel, it is **overcounted**.\n",
    "      - If a trip starts at 5:45a and ends at 6:15a, and the last 15 minutes involved freeway travel, it is **correctly counted**.\n",
    "  \n",
    "## Still to do\n",
    "- discuss defintion of \"low income\"\n",
    "- visualize and review how good the highway=motorway tagging is, and how useful the bridge tagging is (this is done... notes to be added)\n"
   ]
  },
  {
   "cell_type": "code",
   "execution_count": 1,
   "id": "811b3905",
   "metadata": {},
   "outputs": [
    {
     "name": "stdout",
     "output_type": "stream",
     "text": [
      "Done reading the trip file. Number of rows: 365830\n",
      "Done reading the household file. Number of rows: 8258\n"
     ]
    }
   ],
   "source": [
    "import os\n",
    "import pandas as pd\n",
    "\n",
    "# read the trip file\n",
    "BATS_data_location = r\"E:\\Box\\Modeling and Surveys\\Surveys\\Travel Diary Survey\\BATS_2023\\Data\\2023\\Full Weighted 2023 Dataset\\WeightedDataset_02212025\"\n",
    "trip_df = pd.read_csv(os.path.join(BATS_data_location, \"trip.csv\"))\n",
    "\n",
    "row_count_trip = len(trip_df)\n",
    "print(f\"Done reading the trip file. Number of rows: {row_count_trip}\")\n",
    "\n",
    "\n",
    "# read the household file\n",
    "hh_df = pd.read_csv(os.path.join(BATS_data_location, \"hh.csv\"))\n",
    "\n",
    "row_count_hh = len(hh_df)\n",
    "print(f\"Done reading the household file. Number of rows: {row_count_hh}\")\n"
   ]
  },
  {
   "cell_type": "code",
   "execution_count": 2,
   "id": "7a242200",
   "metadata": {},
   "outputs": [
    {
     "name": "stdout",
     "output_type": "stream",
     "text": [
      "Number of weighted households on Tue: 2151578.9136188542\n",
      "Number of weighted households on Wed: 2160605.282457783\n",
      "Number of weighted households on Thu: 2203531.932945707\n"
     ]
    }
   ],
   "source": [
    "# Verify number of weighted households for each of Tue, Wed, Thu\n",
    "\n",
    "# what is it in census? It should be about 2.8m. \n",
    "# The numbers below look low, because we do not have a household-day weight \n",
    "\n",
    "NumHh_Tue = hh_df.loc[hh_df[\"num_complete_tue\"] == 1, \"hh_weight_rmove_only\"].sum()\n",
    "print(f\"Number of weighted households on Tue: {NumHh_Tue}\")\n",
    "\n",
    "NumHh_Wed = hh_df.loc[hh_df[\"num_complete_wed\"] == 1, \"hh_weight_rmove_only\"].sum()\n",
    "print(f\"Number of weighted households on Wed: {NumHh_Wed}\")\n",
    "\n",
    "NumHh_Thu = hh_df.loc[hh_df[\"num_complete_thu\"] == 1, \"hh_weight_rmove_only\"].sum()\n",
    "print(f\"Number of weighted households on Thu: {NumHh_Thu}\")"
   ]
  },
  {
   "cell_type": "code",
   "execution_count": 3,
   "id": "e98ac54c",
   "metadata": {},
   "outputs": [
    {
     "name": "stdout",
     "output_type": "stream",
     "text": [
      "2884974.824949138\n"
     ]
    }
   ],
   "source": [
    "# in order to have the right number of households to work with, we have to use data from Tue, Wed and Thu together\n",
    "# the results will be representative of a typical Tue/Wed/Thu\n",
    "NumHh = hh_df['hh_weight_rmove_only'].sum()\n",
    "print(NumHh)"
   ]
  },
  {
   "cell_type": "code",
   "execution_count": 4,
   "id": "ff5a963e",
   "metadata": {},
   "outputs": [],
   "source": [
    "# read the file with the Has_motorway booleans\n",
    "trip_motorway_bridge_df = pd.read_csv(os.path.join(BATS_data_location, \"derived_variables\", \"trip_motorway_booleans.csv\"))\n",
    "\n",
    "# join the derived variables to the original trip file\n",
    "trip_df = pd.merge(trip_df, trip_motorway_bridge_df, on=\"trip_id\", how=\"left\")"
   ]
  },
  {
   "cell_type": "code",
   "execution_count": 5,
   "id": "3fd15472",
   "metadata": {},
   "outputs": [
    {
     "data": {
      "text/plain": [
       "365830"
      ]
     },
     "execution_count": 5,
     "metadata": {},
     "output_type": "execute_result"
    }
   ],
   "source": [
    "# check the number of rows (should be unchanged from before)\n",
    "len(trip_df)"
   ]
  },
  {
   "cell_type": "code",
   "execution_count": 6,
   "id": "7f3bb0a2",
   "metadata": {},
   "outputs": [
    {
     "data": {
      "text/plain": [
       "NaN    158340\n",
       "0.0    124345\n",
       "1.0     83145\n",
       "Name: has_nonBridge_motorway, dtype: int64"
      ]
     },
     "execution_count": 6,
     "metadata": {},
     "output_type": "execute_result"
    }
   ],
   "source": [
    "# the geodata processing script produced two booleans.\n",
    "# I'll focus on the one named has_nonBridge_motorway\n",
    "\n",
    "trip_df[\"has_nonBridge_motorway\"].value_counts(dropna=False)\n",
    "# 1 means it is a trip that involves a freeway (that is not a bridge)\n",
    "# 0 maens it is in the geodatabase as it is an auto trip, but didn't involve a freeway (that is not a bridge)\n",
    "# NaN means it is not an auto trip as it wasn't in the geodatabase\n",
    "\n",
    "# check the auto trips"
   ]
  },
  {
   "cell_type": "code",
   "execution_count": 7,
   "id": "c3b22ff4",
   "metadata": {},
   "outputs": [],
   "source": [
    "# tag trips that involve a freeway (that is not a bridge) and take place during peak hour\n",
    "# AM Peak is 6 am to 10 am\n",
    "# PM Peak is 3 pm to 7 pm\n",
    "# Perferably, the peak hour or not tag should be done in the geodatabase. Unfortunately, it is not readily available\n",
    "\n",
    "\n",
    "trip_df[\"is_Peak_nonBridge_motorway\"] = (\n",
    "    (trip_df[\"has_nonBridge_motorway\"] == 1) &\n",
    "    (\n",
    "        ((trip_df[\"depart_hour\"] >  6) & (trip_df[\"depart_hour\"] < 10)) |\n",
    "        ((trip_df[\"arrive_hour\"] >  6) & (trip_df[\"arrive_hour\"] < 10)) | \n",
    "        ((trip_df[\"depart_hour\"] > 15) & (trip_df[\"depart_hour\"] < 19)) |         \n",
    "        ((trip_df[\"arrive_hour\"] > 15) & (trip_df[\"arrive_hour\"] < 19))\n",
    "    ) \n",
    ")\n"
   ]
  },
  {
   "cell_type": "code",
   "execution_count": 8,
   "id": "9eeb29fc",
   "metadata": {},
   "outputs": [],
   "source": [
    "# for each household, sum the number of trips that involve a freeway (that is not a bridge) and take place during peak hour\n",
    "hh_peakNonBridgeMotorway_trips_df = trip_df.groupby(\"hh_id\")[[\n",
    "    \"is_Peak_nonBridge_motorway\"\n",
    "]].sum().reset_index()"
   ]
  },
  {
   "cell_type": "code",
   "execution_count": 9,
   "id": "90a582f1",
   "metadata": {},
   "outputs": [],
   "source": [
    "# Rename the columns so they have more intuitive names\n",
    "hh_peakNonBridgeMotorway_trips_df = hh_peakNonBridgeMotorway_trips_df.rename(columns={\n",
    "    \"is_Peak_nonBridge_motorway\": \"numTrips_Peak_nonBridge_motorway\"\n",
    "})"
   ]
  },
  {
   "cell_type": "code",
   "execution_count": 10,
   "id": "7f9241b2",
   "metadata": {},
   "outputs": [
    {
     "name": "stdout",
     "output_type": "stream",
     "text": [
      "Check number of rows in the new household file: 8258\n"
     ]
    }
   ],
   "source": [
    "# join the info about peak non-bridge motorway trips to the household file\n",
    "\n",
    "new_hh_df = pd.merge(\n",
    "    hh_df,\n",
    "    hh_peakNonBridgeMotorway_trips_df,\n",
    "    on=\"hh_id\",\n",
    "    how=\"left\" \n",
    ")\n",
    "\n",
    "# check number of rows\n",
    "row_count_newhh = len(new_hh_df)\n",
    "print(f\"Check number of rows in the new household file: {row_count_newhh}\")"
   ]
  },
  {
   "cell_type": "code",
   "execution_count": 11,
   "id": "ef34a0f2",
   "metadata": {},
   "outputs": [
    {
     "data": {
      "text/plain": [
       "0.0     2540\n",
       "1.0      933\n",
       "2.0      761\n",
       "3.0      571\n",
       "4.0      489\n",
       "5.0      398\n",
       "6.0      353\n",
       "7.0      268\n",
       "8.0      252\n",
       "9.0      217\n",
       "NaN      192\n",
       "10.0     185\n",
       "11.0     154\n",
       "12.0     139\n",
       "13.0     109\n",
       "14.0      88\n",
       "16.0      73\n",
       "15.0      72\n",
       "17.0      58\n",
       "18.0      49\n",
       "19.0      43\n",
       "20.0      37\n",
       "22.0      35\n",
       "23.0      34\n",
       "21.0      28\n",
       "24.0      21\n",
       "26.0      20\n",
       "25.0      19\n",
       "27.0      16\n",
       "29.0      10\n",
       "34.0      10\n",
       "28.0      10\n",
       "35.0       9\n",
       "31.0       6\n",
       "30.0       6\n",
       "33.0       6\n",
       "32.0       6\n",
       "39.0       5\n",
       "36.0       4\n",
       "40.0       4\n",
       "48.0       3\n",
       "37.0       3\n",
       "52.0       2\n",
       "43.0       2\n",
       "41.0       2\n",
       "49.0       2\n",
       "59.0       1\n",
       "71.0       1\n",
       "54.0       1\n",
       "46.0       1\n",
       "51.0       1\n",
       "60.0       1\n",
       "67.0       1\n",
       "47.0       1\n",
       "55.0       1\n",
       "56.0       1\n",
       "58.0       1\n",
       "45.0       1\n",
       "69.0       1\n",
       "42.0       1\n",
       "Name: numTrips_Peak_nonBridge_motorway, dtype: int64"
      ]
     },
     "execution_count": 11,
     "metadata": {},
     "output_type": "execute_result"
    }
   ],
   "source": [
    "#look at the distribution of values in num_trip_peak_nonBridge_motorway\n",
    "new_hh_df[\"numTrips_Peak_nonBridge_motorway\"].value_counts(dropna=False)\n",
    "\n",
    "# Notes on numTrips_Peak_nonBridge_motorway field:\n",
    "# - NaN: The household didn't make any auto trips in the survey\n",
    "# - 0: The household did not make any peak-period non-bridge motorway trips \n",
    "# - Other values: The number of peak-period non-bridge motorway trips made\n",
    "\n",
    "# some households made many (more than 30) peak non-bridge motorway trips in the survey\n",
    "# note that some households participated for 7 days, some participated for 1 day (or somewhere in between)"
   ]
  },
  {
   "cell_type": "code",
   "execution_count": 12,
   "id": "263b9f5d",
   "metadata": {},
   "outputs": [
    {
     "name": "stdout",
     "output_type": "stream",
     "text": [
      "The weighted number of hh that made no peak-period non-bridge motorway trip is: 511320.0907448505\n"
     ]
    }
   ],
   "source": [
    "# Number of households that made no peak-period non-bridge motorway trip, weighted\n",
    "numHh_MadeZero_Peak_nonBridge_motorway = new_hh_df.loc[\n",
    "    new_hh_df[\"numTrips_Peak_nonBridge_motorway\"] == 0,\n",
    "    \"hh_weight_rmove_only\"\n",
    "].sum()\n",
    "\n",
    "print(f\"The weighted number of hh that made no peak-period non-bridge motorway trip is: {numHh_MadeZero_Peak_nonBridge_motorway}\")\n"
   ]
  },
  {
   "cell_type": "code",
   "execution_count": 13,
   "id": "9a13ffe9",
   "metadata": {},
   "outputs": [
    {
     "name": "stdout",
     "output_type": "stream",
     "text": [
      "The % of weighted households that made no peak-period non-bridge motorway trip is: 0.17723554684878925\n"
     ]
    }
   ],
   "source": [
    "# calculate % of households that do not use highways on a regular basis during peak hour periods\n",
    "Percent_MadeZero_Peak_nonBridge_motorway = numHh_MadeZero_Peak_nonBridge_motorway / NumHh\n",
    "print(f\"The % of weighted households that made no peak-period non-bridge motorway trip is: {Percent_MadeZero_Peak_nonBridge_motorway}\")\n"
   ]
  },
  {
   "cell_type": "code",
   "execution_count": 14,
   "id": "d091ce5e",
   "metadata": {},
   "outputs": [
    {
     "data": {
      "text/plain": [
       "5      2365\n",
       "6      1952\n",
       "4       878\n",
       "3       790\n",
       "999     778\n",
       "1       756\n",
       "2       739\n",
       "Name: income_broad, dtype: int64"
      ]
     },
     "execution_count": 14,
     "metadata": {},
     "output_type": "execute_result"
    }
   ],
   "source": [
    "# Inspect the income variable\n",
    "new_hh_df[\"income_broad\"].value_counts(dropna=False)\n"
   ]
  },
  {
   "cell_type": "code",
   "execution_count": 15,
   "id": "d317a653",
   "metadata": {},
   "outputs": [],
   "source": [
    "# Add income labels\n",
    "income_labels = {\n",
    "    1: \"Under $25,000\",\n",
    "    2: \"$25,000–$49,999\",\n",
    "    3: \"$50,000–$74,999\",\n",
    "    4: \"$75,000–$99,999\",\n",
    "    5: \"$100,000–$199,999\",\n",
    "    6: \"$200,000 or more\",\n",
    "    995: \"Missing Response\",\n",
    "    999: \"Prefer not to answer\"\n",
    "}\n",
    "\n",
    "new_hh_df[\"income_broad_label\"] = new_hh_df[\"income_broad\"].map(income_labels)"
   ]
  },
  {
   "cell_type": "code",
   "execution_count": 16,
   "id": "e925499f",
   "metadata": {},
   "outputs": [
    {
     "data": {
      "text/html": [
       "<div>\n",
       "<style scoped>\n",
       "    .dataframe tbody tr th:only-of-type {\n",
       "        vertical-align: middle;\n",
       "    }\n",
       "\n",
       "    .dataframe tbody tr th {\n",
       "        vertical-align: top;\n",
       "    }\n",
       "\n",
       "    .dataframe thead th {\n",
       "        text-align: right;\n",
       "    }\n",
       "</style>\n",
       "<table border=\"1\" class=\"dataframe\">\n",
       "  <thead>\n",
       "    <tr style=\"text-align: right;\">\n",
       "      <th></th>\n",
       "      <th>income_broad</th>\n",
       "      <th>income_broad_label</th>\n",
       "      <th>zero_Peak_nonBridge_motorway_weighted</th>\n",
       "      <th>hh_weight_rmove_only</th>\n",
       "      <th>pct_zero_Peak_nonBridge_motorway_weighted</th>\n",
       "    </tr>\n",
       "  </thead>\n",
       "  <tbody>\n",
       "    <tr>\n",
       "      <th>0</th>\n",
       "      <td>1</td>\n",
       "      <td>Under $25,000</td>\n",
       "      <td>119018.680665</td>\n",
       "      <td>273558.208651</td>\n",
       "      <td>0.435076</td>\n",
       "    </tr>\n",
       "    <tr>\n",
       "      <th>1</th>\n",
       "      <td>2</td>\n",
       "      <td>$25,000–$49,999</td>\n",
       "      <td>82951.456481</td>\n",
       "      <td>275291.333712</td>\n",
       "      <td>0.301322</td>\n",
       "    </tr>\n",
       "    <tr>\n",
       "      <th>2</th>\n",
       "      <td>3</td>\n",
       "      <td>$50,000–$74,999</td>\n",
       "      <td>61162.016114</td>\n",
       "      <td>301083.553489</td>\n",
       "      <td>0.203140</td>\n",
       "    </tr>\n",
       "    <tr>\n",
       "      <th>3</th>\n",
       "      <td>4</td>\n",
       "      <td>$75,000–$99,999</td>\n",
       "      <td>53033.162648</td>\n",
       "      <td>275829.625192</td>\n",
       "      <td>0.192268</td>\n",
       "    </tr>\n",
       "    <tr>\n",
       "      <th>4</th>\n",
       "      <td>5</td>\n",
       "      <td>$100,000–$199,999</td>\n",
       "      <td>87305.481589</td>\n",
       "      <td>657234.669681</td>\n",
       "      <td>0.132838</td>\n",
       "    </tr>\n",
       "    <tr>\n",
       "      <th>5</th>\n",
       "      <td>6</td>\n",
       "      <td>$200,000 or more</td>\n",
       "      <td>67600.748499</td>\n",
       "      <td>801675.590208</td>\n",
       "      <td>0.084324</td>\n",
       "    </tr>\n",
       "    <tr>\n",
       "      <th>6</th>\n",
       "      <td>999</td>\n",
       "      <td>Prefer not to answer</td>\n",
       "      <td>40248.544748</td>\n",
       "      <td>300301.844016</td>\n",
       "      <td>0.134027</td>\n",
       "    </tr>\n",
       "  </tbody>\n",
       "</table>\n",
       "</div>"
      ],
      "text/plain": [
       "   income_broad    income_broad_label  zero_Peak_nonBridge_motorway_weighted  \\\n",
       "0             1         Under $25,000                          119018.680665   \n",
       "1             2       $25,000–$49,999                           82951.456481   \n",
       "2             3       $50,000–$74,999                           61162.016114   \n",
       "3             4       $75,000–$99,999                           53033.162648   \n",
       "4             5     $100,000–$199,999                           87305.481589   \n",
       "5             6      $200,000 or more                           67600.748499   \n",
       "6           999  Prefer not to answer                           40248.544748   \n",
       "\n",
       "   hh_weight_rmove_only  pct_zero_Peak_nonBridge_motorway_weighted  \n",
       "0         273558.208651                                   0.435076  \n",
       "1         275291.333712                                   0.301322  \n",
       "2         301083.553489                                   0.203140  \n",
       "3         275829.625192                                   0.192268  \n",
       "4         657234.669681                                   0.132838  \n",
       "5         801675.590208                                   0.084324  \n",
       "6         300301.844016                                   0.134027  "
      ]
     },
     "execution_count": 16,
     "metadata": {},
     "output_type": "execute_result"
    }
   ],
   "source": [
    "new_hh_df[\"zero_Peak_nonBridge_motorway\"] = new_hh_df[\"numTrips_Peak_nonBridge_motorway\"] == 0\n",
    "\n",
    "new_hh_df[\"zero_Peak_nonBridge_motorway_weighted\"] = new_hh_df[\"zero_Peak_nonBridge_motorway\"] * new_hh_df[\"hh_weight_rmove_only\"]\n",
    "\n",
    "\n",
    "# Group and aggregate\n",
    "output_df = new_hh_df.groupby([\"income_broad\", \"income_broad_label\"], as_index=False).agg({\n",
    "    \"zero_Peak_nonBridge_motorway_weighted\": \"sum\",\n",
    "    \"hh_weight_rmove_only\": \"sum\"\n",
    "})\n",
    "\n",
    "# Add percent column\n",
    "output_df[\"pct_zero_Peak_nonBridge_motorway_weighted\"] = output_df[\"zero_Peak_nonBridge_motorway_weighted\"] / output_df[\"hh_weight_rmove_only\"]\n",
    "\n",
    "output_df"
   ]
  },
  {
   "cell_type": "code",
   "execution_count": 17,
   "id": "4831a161",
   "metadata": {},
   "outputs": [
    {
     "data": {
      "text/plain": [
       "8      217273\n",
       "1      100866\n",
       "13      20004\n",
       "2        9217\n",
       "995      8486\n",
       "6        3878\n",
       "7        1853\n",
       "11       1425\n",
       "14        892\n",
       "3         630\n",
       "9         376\n",
       "12        338\n",
       "5         281\n",
       "4         262\n",
       "10         49\n",
       "Name: mode_type, dtype: int64"
      ]
     },
     "execution_count": 17,
     "metadata": {},
     "output_type": "execute_result"
    }
   ],
   "source": [
    "# share of hh that made a drive trip and transit trip\n",
    "\n",
    "# Inspect the mode_type varaible\n",
    "trip_df[\"mode_type\"].value_counts(dropna=False)"
   ]
  },
  {
   "cell_type": "code",
   "execution_count": 18,
   "id": "2345f974",
   "metadata": {},
   "outputs": [],
   "source": [
    "# Filter trips to include only the following modes:\n",
    "#    5. Taxi\n",
    "#    6. TNC\n",
    "#    8. Car\n",
    "#    9. Carshare\n",
    "#    11. Shuttle/vanpool\n",
    "trip_df_AutoOnly = trip_df[trip_df[\"mode_type\"].isin([5, 6, 8, 9, 11])]"
   ]
  },
  {
   "cell_type": "code",
   "execution_count": 19,
   "id": "6d35482a",
   "metadata": {},
   "outputs": [],
   "source": [
    "# for each household, sum the number of auto trips \n",
    "hh_Auto_trips_df = trip_df_AutoOnly.groupby('hh_id').size().reset_index(name='numTrips_Auto')"
   ]
  },
  {
   "cell_type": "code",
   "execution_count": 20,
   "id": "d7412144",
   "metadata": {},
   "outputs": [
    {
     "data": {
      "text/plain": [
       "['hh_id', 'numTrips_Auto']"
      ]
     },
     "execution_count": 20,
     "metadata": {},
     "output_type": "execute_result"
    }
   ],
   "source": [
    "list(hh_Auto_trips_df.columns)"
   ]
  },
  {
   "cell_type": "code",
   "execution_count": 21,
   "id": "5a16dea3",
   "metadata": {},
   "outputs": [
    {
     "data": {
      "text/plain": [
       "7401"
      ]
     },
     "execution_count": 21,
     "metadata": {},
     "output_type": "execute_result"
    }
   ],
   "source": [
    "len(hh_Auto_trips_df)"
   ]
  },
  {
   "cell_type": "code",
   "execution_count": 22,
   "id": "9fa2cf65",
   "metadata": {},
   "outputs": [
    {
     "name": "stdout",
     "output_type": "stream",
     "text": [
      "Check number of rows in the new household file: 8258\n"
     ]
    }
   ],
   "source": [
    "# join the info about number of household auto trips to the household file\n",
    "\n",
    "new_hh_df = pd.merge(\n",
    "    new_hh_df,\n",
    "    hh_Auto_trips_df,\n",
    "    on=\"hh_id\",\n",
    "    how=\"left\" \n",
    ")\n",
    "\n",
    "# check number of rows\n",
    "row_count_newhh = len(new_hh_df)\n",
    "print(f\"Check number of rows in the new household file: {row_count_newhh}\")\n"
   ]
  },
  {
   "cell_type": "code",
   "execution_count": 23,
   "id": "d4d18f66",
   "metadata": {},
   "outputs": [
    {
     "data": {
      "text/html": [
       "<div>\n",
       "<style scoped>\n",
       "    .dataframe tbody tr th:only-of-type {\n",
       "        vertical-align: middle;\n",
       "    }\n",
       "\n",
       "    .dataframe tbody tr th {\n",
       "        vertical-align: top;\n",
       "    }\n",
       "\n",
       "    .dataframe thead th {\n",
       "        text-align: right;\n",
       "    }\n",
       "</style>\n",
       "<table border=\"1\" class=\"dataframe\">\n",
       "  <thead>\n",
       "    <tr style=\"text-align: right;\">\n",
       "      <th></th>\n",
       "      <th>income_broad</th>\n",
       "      <th>income_broad_label</th>\n",
       "      <th>zero_Peak_nonBridge_motorway_weighted</th>\n",
       "      <th>zero_auto_weighted</th>\n",
       "      <th>hh_weight_rmove_only</th>\n",
       "      <th>pct_zero_Peak_nonBridge_motorway_weighted</th>\n",
       "      <th>pct_zero_auto_weighted</th>\n",
       "    </tr>\n",
       "  </thead>\n",
       "  <tbody>\n",
       "    <tr>\n",
       "      <th>0</th>\n",
       "      <td>1</td>\n",
       "      <td>Under $25,000</td>\n",
       "      <td>119018.680665</td>\n",
       "      <td>63062.852794</td>\n",
       "      <td>273558.208651</td>\n",
       "      <td>0.435076</td>\n",
       "      <td>0.230528</td>\n",
       "    </tr>\n",
       "    <tr>\n",
       "      <th>1</th>\n",
       "      <td>2</td>\n",
       "      <td>$25,000–$49,999</td>\n",
       "      <td>82951.456481</td>\n",
       "      <td>22081.794315</td>\n",
       "      <td>275291.333712</td>\n",
       "      <td>0.301322</td>\n",
       "      <td>0.080212</td>\n",
       "    </tr>\n",
       "    <tr>\n",
       "      <th>2</th>\n",
       "      <td>3</td>\n",
       "      <td>$50,000–$74,999</td>\n",
       "      <td>61162.016114</td>\n",
       "      <td>10441.279420</td>\n",
       "      <td>301083.553489</td>\n",
       "      <td>0.203140</td>\n",
       "      <td>0.034679</td>\n",
       "    </tr>\n",
       "    <tr>\n",
       "      <th>3</th>\n",
       "      <td>4</td>\n",
       "      <td>$75,000–$99,999</td>\n",
       "      <td>53033.162648</td>\n",
       "      <td>12182.926923</td>\n",
       "      <td>275829.625192</td>\n",
       "      <td>0.192268</td>\n",
       "      <td>0.044168</td>\n",
       "    </tr>\n",
       "    <tr>\n",
       "      <th>4</th>\n",
       "      <td>5</td>\n",
       "      <td>$100,000–$199,999</td>\n",
       "      <td>87305.481589</td>\n",
       "      <td>11702.724752</td>\n",
       "      <td>657234.669681</td>\n",
       "      <td>0.132838</td>\n",
       "      <td>0.017806</td>\n",
       "    </tr>\n",
       "    <tr>\n",
       "      <th>5</th>\n",
       "      <td>6</td>\n",
       "      <td>$200,000 or more</td>\n",
       "      <td>67600.748499</td>\n",
       "      <td>7788.360302</td>\n",
       "      <td>801675.590208</td>\n",
       "      <td>0.084324</td>\n",
       "      <td>0.009715</td>\n",
       "    </tr>\n",
       "    <tr>\n",
       "      <th>6</th>\n",
       "      <td>999</td>\n",
       "      <td>Prefer not to answer</td>\n",
       "      <td>40248.544748</td>\n",
       "      <td>17691.770522</td>\n",
       "      <td>300301.844016</td>\n",
       "      <td>0.134027</td>\n",
       "      <td>0.058913</td>\n",
       "    </tr>\n",
       "  </tbody>\n",
       "</table>\n",
       "</div>"
      ],
      "text/plain": [
       "   income_broad    income_broad_label  zero_Peak_nonBridge_motorway_weighted  \\\n",
       "0             1         Under $25,000                          119018.680665   \n",
       "1             2       $25,000–$49,999                           82951.456481   \n",
       "2             3       $50,000–$74,999                           61162.016114   \n",
       "3             4       $75,000–$99,999                           53033.162648   \n",
       "4             5     $100,000–$199,999                           87305.481589   \n",
       "5             6      $200,000 or more                           67600.748499   \n",
       "6           999  Prefer not to answer                           40248.544748   \n",
       "\n",
       "   zero_auto_weighted  hh_weight_rmove_only  \\\n",
       "0        63062.852794         273558.208651   \n",
       "1        22081.794315         275291.333712   \n",
       "2        10441.279420         301083.553489   \n",
       "3        12182.926923         275829.625192   \n",
       "4        11702.724752         657234.669681   \n",
       "5         7788.360302         801675.590208   \n",
       "6        17691.770522         300301.844016   \n",
       "\n",
       "   pct_zero_Peak_nonBridge_motorway_weighted  pct_zero_auto_weighted  \n",
       "0                                   0.435076                0.230528  \n",
       "1                                   0.301322                0.080212  \n",
       "2                                   0.203140                0.034679  \n",
       "3                                   0.192268                0.044168  \n",
       "4                                   0.132838                0.017806  \n",
       "5                                   0.084324                0.009715  \n",
       "6                                   0.134027                0.058913  "
      ]
     },
     "execution_count": 23,
     "metadata": {},
     "output_type": "execute_result"
    }
   ],
   "source": [
    "#new_hh_df[\"zero_Peak_nonBridge_motorway\"] = new_hh_df[\"numTrips_Peak_nonBridge_motorway\"] == 0\n",
    "new_hh_df[\"zero_auto\"] = new_hh_df[\"numTrips_Auto\"].isna()\n",
    "\n",
    "#new_hh_df[\"zero_Peak_nonBridge_motorway_weighted\"] = new_hh_df[\"zero_Peak_nonBridge_motorway\"] * new_hh_df[\"hh_weight_rmove_only\"]\n",
    "new_hh_df[\"zero_auto_weighted\"] = new_hh_df[\"zero_auto\"] * new_hh_df[\"hh_weight_rmove_only\"]\n",
    "\n",
    "# Group and aggregate\n",
    "output_df = new_hh_df.groupby([\"income_broad\", \"income_broad_label\"], as_index=False).agg({\n",
    "    \"zero_Peak_nonBridge_motorway_weighted\": \"sum\",    \n",
    "    \"zero_auto_weighted\": \"sum\",\n",
    "    \"hh_weight_rmove_only\": \"sum\"\n",
    "})\n",
    "\n",
    "# Add percent column\n",
    "output_df[\"pct_zero_Peak_nonBridge_motorway_weighted\"] = output_df[\"zero_Peak_nonBridge_motorway_weighted\"] / output_df[\"hh_weight_rmove_only\"]\n",
    "output_df[\"pct_zero_auto_weighted\"] = output_df[\"zero_auto_weighted\"] / output_df[\"hh_weight_rmove_only\"]\n",
    "\n",
    "output_df"
   ]
  },
  {
   "cell_type": "code",
   "execution_count": null,
   "id": "4864d183",
   "metadata": {},
   "outputs": [],
   "source": []
  }
 ],
 "metadata": {
  "kernelspec": {
   "display_name": "Python (networkwrangler)",
   "language": "python",
   "name": "networkwrangler"
  },
  "language_info": {
   "codemirror_mode": {
    "name": "ipython",
    "version": 3
   },
   "file_extension": ".py",
   "mimetype": "text/x-python",
   "name": "python",
   "nbconvert_exporter": "python",
   "pygments_lexer": "ipython3",
   "version": "3.9.18"
  }
 },
 "nbformat": 4,
 "nbformat_minor": 5
}
