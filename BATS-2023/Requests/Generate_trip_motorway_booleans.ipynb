{
 "cells": [
  {
   "cell_type": "markdown",
   "id": "f6382e53",
   "metadata": {},
   "source": [
    "## Purpose of this notebook\n",
    "\n",
    "This notebook generates boolean indicators for whether an auto trip in BATS 2023 involves the use of a freeway. These booleans are used to support a request for information on the percentage of low-income households that do **not** regularly use highways during peak-hour periods ([Asana task link](https://app.asana.com/1/11860278793487/project/12291104512646/task/1210119087413706?focus=true))\n",
    "\n",
    "## Input file\n",
    "\n",
    "`tds_conflation_results.gpkg` — created through the conflation process documented here: https://github.com/BayAreaMetro/Travel-Diary-Surveys/tree/master/trip-trace-conflation"
   ]
  },
  {
   "cell_type": "code",
   "execution_count": 1,
   "id": "6fce4916",
   "metadata": {},
   "outputs": [],
   "source": [
    "import geopandas as gpd\n",
    "import os\n",
    "\n",
    "import pandas as pd\n",
    "pd.set_option('display.max_rows', 1000)"
   ]
  },
  {
   "cell_type": "code",
   "execution_count": 2,
   "id": "9d10a177",
   "metadata": {},
   "outputs": [
    {
     "name": "stdout",
     "output_type": "stream",
     "text": [
      "Started reading matched_path_gdf at: 2025-05-12 07:39:34.983302\n"
     ]
    }
   ],
   "source": [
    "# The matched_path_gdf layer takes a while to load. Tracking the time it takes here:\n",
    "\n",
    "from datetime import datetime\n",
    "start_time = datetime.now()\n",
    "print(\"Started reading matched_path_gdf at:\", start_time)"
   ]
  },
  {
   "cell_type": "code",
   "execution_count": 3,
   "id": "5d662d36",
   "metadata": {},
   "outputs": [],
   "source": [
    "# The layer in the input GeoPackage is named matched_path_gdf, and I used the same name for the GeoDataFrame\n",
    "matched_path_gdf = gpd.read_file(\n",
    "    r\"M:\\Data\\HomeInterview\\Bay Area Travel Study 2023\\Data\\Full Weighted 2023 Dataset\\WeightedDataset_08092024\\OSM_match_v2\\tds_conflation_results.gpkg\",\n",
    "    layer=\"matched_path_gdf\"\n",
    ")\n"
   ]
  },
  {
   "cell_type": "code",
   "execution_count": 4,
   "id": "92ce556b",
   "metadata": {},
   "outputs": [
    {
     "name": "stdout",
     "output_type": "stream",
     "text": [
      "Started reading matched_path_gdf at: 2025-05-12 08:21:11.104909\n",
      "Duration: 0:41:36.121607\n"
     ]
    }
   ],
   "source": [
    "end_time = datetime.now()\n",
    "print(\"Started reading matched_path_gdf at:\", end_time)\n",
    "print(\"Duration:\", end_time - start_time)"
   ]
  },
  {
   "cell_type": "code",
   "execution_count": 5,
   "id": "0137b9f5",
   "metadata": {},
   "outputs": [
    {
     "data": {
      "text/plain": [
       "8941049"
      ]
     },
     "execution_count": 5,
     "metadata": {},
     "output_type": "execute_result"
    }
   ],
   "source": [
    "len(matched_path_gdf)"
   ]
  },
  {
   "cell_type": "code",
   "execution_count": 6,
   "id": "2f4f5c4f",
   "metadata": {},
   "outputs": [
    {
     "name": "stdout",
     "output_type": "stream",
     "text": [
      "road_id\n",
      "origin_junction_id\n",
      "destination_junction_id\n",
      "road_key\n",
      "kilometers\n",
      "travel_time\n",
      "trip_id\n",
      "osmid\n",
      "ref\n",
      "name\n",
      "maxspeed\n",
      "highway\n",
      "bridge\n",
      "tunnel\n",
      "rownum\n",
      "geometry\n"
     ]
    }
   ],
   "source": [
    "# note to self: do not do matched_path_gdf.head(), as it may reveal PII data!\n",
    "# but I can list the columns\n",
    "\n",
    "for col in matched_path_gdf.columns:\n",
    "    print(col)"
   ]
  },
  {
   "cell_type": "code",
   "execution_count": 7,
   "id": "8b9be93a",
   "metadata": {},
   "outputs": [
    {
     "data": {
      "text/plain": [
       "secondary                              2490183\n",
       "primary                                1489085\n",
       "motorway                               1475978\n",
       "tertiary                               1325476\n",
       "residential                            1097249\n",
       "motorway_link                           473121\n",
       "trunk                                   403204\n",
       "unclassified                             66918\n",
       "primary_link                             30613\n",
       "secondary_link                           26954\n",
       "trunk_link                               23624\n",
       "busway                                   19463\n",
       "tertiary_link                             7554\n",
       "['motorway', 'trunk']                     3470\n",
       "['secondary', 'tertiary']                 1519\n",
       "['residential', 'tertiary']               1117\n",
       "['motorway', 'motorway_link']              853\n",
       "['secondary', 'motorway_link']             652\n",
       "['motorway_link', 'primary']               569\n",
       "living_street                              549\n",
       "['unclassified', 'tertiary']               433\n",
       "['secondary', 'primary']                   385\n",
       "['residential', 'unclassified']            371\n",
       "['unclassified', 'residential']            366\n",
       "['secondary', 'primary_link']              319\n",
       "['motorway_link', 'tertiary']              245\n",
       "['unclassified', 'secondary']              123\n",
       "['trunk_link', 'secondary']                111\n",
       "['tertiary', 'tertiary_link']              109\n",
       "['primary_link', 'primary']                102\n",
       "['tertiary', 'secondary_link']              71\n",
       "['motorway_link', 'secondary_link']         61\n",
       "['secondary', 'secondary_link']             59\n",
       "['residential', 'secondary']                35\n",
       "['unclassified', 'living_street']           24\n",
       "['tertiary', 'primary']                     22\n",
       "['tertiary_link', 'secondary_link']         16\n",
       "['residential', 'living_street']            13\n",
       "['living_street', 'residential']            11\n",
       "['living_street', 'unclassified']            9\n",
       "['unclassified', 'motorway_link']            8\n",
       "['living_street', 'tertiary']                3\n",
       "['trunk_link', 'primary']                    1\n",
       "['trunk_link', 'tertiary']                   1\n",
       "Name: highway, dtype: int64"
      ]
     },
     "execution_count": 7,
     "metadata": {},
     "output_type": "execute_result"
    }
   ],
   "source": [
    "matched_path_gdf[\"highway\"].value_counts()"
   ]
  },
  {
   "cell_type": "code",
   "execution_count": 8,
   "id": "ba4be6b0",
   "metadata": {},
   "outputs": [
    {
     "data": {
      "text/plain": [
       "None                  8069697\n",
       "yes                    865588\n",
       "['yes', 'movable']       2227\n",
       "viaduct                  1883\n",
       "['yes', 'viaduct']       1171\n",
       "movable                   245\n",
       "cantilever                142\n",
       "no                         96\n",
       "Name: bridge, dtype: int64"
      ]
     },
     "execution_count": 8,
     "metadata": {},
     "output_type": "execute_result"
    }
   ],
   "source": [
    "matched_path_gdf[\"bridge\"].value_counts(dropna=False)"
   ]
  },
  {
   "cell_type": "code",
   "execution_count": 9,
   "id": "cd6c0b93",
   "metadata": {},
   "outputs": [
    {
     "data": {
      "text/plain": [
       "8069697"
      ]
     },
     "execution_count": 9,
     "metadata": {},
     "output_type": "execute_result"
    }
   ],
   "source": [
    "# verify if \"None\" is actually null or a string\n",
    "matched_path_gdf[\"bridge\"].isnull().sum()"
   ]
  },
  {
   "cell_type": "code",
   "execution_count": 10,
   "id": "9b474263",
   "metadata": {},
   "outputs": [
    {
     "data": {
      "text/html": [
       "<div>\n",
       "<style scoped>\n",
       "    .dataframe tbody tr th:only-of-type {\n",
       "        vertical-align: middle;\n",
       "    }\n",
       "\n",
       "    .dataframe tbody tr th {\n",
       "        vertical-align: top;\n",
       "    }\n",
       "\n",
       "    .dataframe thead th {\n",
       "        text-align: right;\n",
       "    }\n",
       "</style>\n",
       "<table border=\"1\" class=\"dataframe\">\n",
       "  <thead>\n",
       "    <tr style=\"text-align: right;\">\n",
       "      <th></th>\n",
       "      <th>osmid</th>\n",
       "      <th>Facility</th>\n",
       "    </tr>\n",
       "  </thead>\n",
       "  <tbody>\n",
       "    <tr>\n",
       "      <th>0</th>\n",
       "      <td>[24307457, 47245593, 24307484, 123867358]</td>\n",
       "      <td>i580_hayward_to_sanjoaquin</td>\n",
       "    </tr>\n",
       "    <tr>\n",
       "      <th>1</th>\n",
       "      <td>[24307457, 24290323]</td>\n",
       "      <td>i580_hayward_to_sanjoaquin</td>\n",
       "    </tr>\n",
       "    <tr>\n",
       "      <th>2</th>\n",
       "      <td>[123867360, 47245593, 47245597]</td>\n",
       "      <td>i580_hayward_to_sanjoaquin</td>\n",
       "    </tr>\n",
       "    <tr>\n",
       "      <th>3</th>\n",
       "      <td>[496168690, 94008284]</td>\n",
       "      <td>i580_hayward_to_sanjoaquin</td>\n",
       "    </tr>\n",
       "    <tr>\n",
       "      <th>4</th>\n",
       "      <td>[496168690, 496168691, 24307478, 32168615]</td>\n",
       "      <td>i580_hayward_to_sanjoaquin</td>\n",
       "    </tr>\n",
       "  </tbody>\n",
       "</table>\n",
       "</div>"
      ],
      "text/plain": [
       "                                        osmid                    Facility\n",
       "0   [24307457, 47245593, 24307484, 123867358]  i580_hayward_to_sanjoaquin\n",
       "1                        [24307457, 24290323]  i580_hayward_to_sanjoaquin\n",
       "2             [123867360, 47245593, 47245597]  i580_hayward_to_sanjoaquin\n",
       "3                       [496168690, 94008284]  i580_hayward_to_sanjoaquin\n",
       "4  [496168690, 496168691, 24307478, 32168615]  i580_hayward_to_sanjoaquin"
      ]
     },
     "execution_count": 10,
     "metadata": {},
     "output_type": "execute_result"
    }
   ],
   "source": [
    "# Based on a visualization of the map matched_path_gdf, we found that\n",
    "# matched_path_gdf[\"highway\"] == \"motorway\" a reasonable representation the Bay Area's freeway systems (even though it's not perfect) \n",
    "# However, the bridge attribute in OSM does not reliably represent the Bay Area's bridges\n",
    "# Tableau Online map: https://10ay.online.tableau.com/#/site/metropolitantransportationcommission/views/matched_path_gdf/bridge?:iid=2\n",
    "\n",
    "# But Shimon has previously done some manual coding of the bridges\n",
    "osmid_bridge_csv = r\"E:\\Box\\Modeling and Surveys\\Surveys\\Travel Diary Survey\\BATS_2023\\Data\\2023\\Survey Conflation\\osmid_facility_equivalence_lookup.csv\"\n",
    "osmid_bridge_df = pd.read_csv(osmid_bridge_csv)\n",
    "\n",
    "osmid_bridge_df.head()"
   ]
  },
  {
   "cell_type": "code",
   "execution_count": 11,
   "id": "fb044977",
   "metadata": {},
   "outputs": [
    {
     "data": {
      "text/plain": [
       "i880_baybridge_to_237         140\n",
       "i680_80_to_580_portion        136\n",
       "sr4_80_to_160                  98\n",
       "i680_580_to_101                98\n",
       "i580_hayward_to_sanjoaquin     85\n",
       "i580_hayward_to_baybridge      74\n",
       "i80_580_to_Carquinez           69\n",
       "sr37_121_to_101                23\n",
       "sr37_80_to_mare                19\n",
       "i80_13_to_580                  12\n",
       "sr37_mare_to_121                9\n",
       "i80_680_to_12                   7\n",
       "bay_bridge                      6\n",
       "bm_bridge                       2\n",
       "ant_bridge                      2\n",
       "dum_bridge                      2\n",
       "carq_bridge                     2\n",
       "rsr_bridge                      2\n",
       "gg_bridge                       2\n",
       "sm_bridge                       2\n",
       "Name: Facility, dtype: int64"
      ]
     },
     "execution_count": 11,
     "metadata": {},
     "output_type": "execute_result"
    }
   ],
   "source": [
    "osmid_bridge_df[\"Facility\"].value_counts(dropna=False)"
   ]
  },
  {
   "cell_type": "code",
   "execution_count": 12,
   "id": "f2dddcf2",
   "metadata": {},
   "outputs": [
    {
     "data": {
      "text/plain": [
       "0"
      ]
     },
     "execution_count": 12,
     "metadata": {},
     "output_type": "execute_result"
    }
   ],
   "source": [
    "# check if there are duplicated osmid\n",
    "osmid_bridge_df[\"osmid\"].duplicated().sum()"
   ]
  },
  {
   "cell_type": "code",
   "execution_count": 13,
   "id": "6d864ddd",
   "metadata": {},
   "outputs": [],
   "source": [
    "# join the file with the manual bridge coding to the matched_path_gdf\n",
    "# want the result to remain a gdf. don't use pd.merge()\n",
    "\n",
    "matched_path_bridge_gdf = matched_path_gdf.merge(osmid_bridge_df, on=\"osmid\", how=\"left\")"
   ]
  },
  {
   "cell_type": "code",
   "execution_count": 14,
   "id": "1183d3d1",
   "metadata": {},
   "outputs": [
    {
     "data": {
      "text/plain": [
       "8941049"
      ]
     },
     "execution_count": 14,
     "metadata": {},
     "output_type": "execute_result"
    }
   ],
   "source": [
    "# the join shouldn't add any rows. check that this is the case.\n",
    "# the following should return 8941049 rows\n",
    "len(matched_path_bridge_gdf)"
   ]
  },
  {
   "cell_type": "code",
   "execution_count": 15,
   "id": "3ccf0ff2",
   "metadata": {},
   "outputs": [],
   "source": [
    "# create a new variable for the eight bridges\n",
    "BayArea_bridges = [\n",
    "    \"sm_bridge\", \"dum_bridge\", \"ant_bridge\", \"bm_bridge\",\n",
    "    \"bay_bridge\", \"carq_bridge\", \"rsr_bridge\", \"gg_bridge\"\n",
    "]\n",
    "\n",
    "matched_path_bridge_gdf[\"is_bridge\"] = matched_path_bridge_gdf[\"Facility\"].isin(BayArea_bridges).astype(int)"
   ]
  },
  {
   "cell_type": "code",
   "execution_count": 16,
   "id": "b5b94ced",
   "metadata": {},
   "outputs": [],
   "source": [
    "# Create boolean column for motorway\n",
    "matched_path_bridge_gdf[\"is_motorway\"] = matched_path_bridge_gdf[\"highway\"] == \"motorway\"\n",
    "\n",
    "# Create boolean column for motorway and NOT a bridge\n",
    "matched_path_bridge_gdf[\"is_motorway_not_bridge\"] = (\n",
    "    (matched_path_bridge_gdf[\"highway\"] == \"motorway\") & \n",
    "    (matched_path_bridge_gdf[\"is_bridge\"] != 1)\n",
    ")"
   ]
  },
  {
   "cell_type": "code",
   "execution_count": 17,
   "id": "50746cfd",
   "metadata": {},
   "outputs": [],
   "source": [
    "# Group by trip_id and use max \n",
    "trip_motorway_booleans_df = matched_path_bridge_gdf.groupby(\"trip_id\")[[\"is_motorway\", \"is_motorway_not_bridge\"]].max().astype(int).reset_index()\n"
   ]
  },
  {
   "cell_type": "code",
   "execution_count": 18,
   "id": "6756ab2a",
   "metadata": {},
   "outputs": [],
   "source": [
    "# Rename the columns\n",
    "trip_motorway_booleans_df.rename(columns={\"is_motorway\": \"has_motorway\"}, inplace=True)\n",
    "trip_motorway_booleans_df.rename(columns  ={\"is_motorway_not_bridge\": \"has_nonBridge_motorway\"}, inplace=True)\n"
   ]
  },
  {
   "cell_type": "code",
   "execution_count": 19,
   "id": "b829e75d",
   "metadata": {},
   "outputs": [],
   "source": [
    "# Save to CSV\n",
    "BATS_data_location = r\"E:\\Box\\Modeling and Surveys\\Surveys\\Travel Diary Survey\\BATS_2023\\Data\\2023\\Full Weighted 2023 Dataset\\WeightedDataset_02212025\"\n",
    "Output_location = os.path.join(BATS_data_location, \"derived_variables\", \"trip_motorway_booleans.csv\")\n",
    "trip_motorway_booleans_df.to_csv(Output_location, index=False)"
   ]
  },
  {
   "cell_type": "code",
   "execution_count": 20,
   "id": "8642c377",
   "metadata": {},
   "outputs": [
    {
     "name": "stdout",
     "output_type": "stream",
     "text": [
      "Started at: 2025-05-12 08:21:32.955975\n"
     ]
    }
   ],
   "source": [
    "# Export the gdf results to shapefile (so they can be visualized in Tableau)\n",
    "# Only the first 10,000 rows first (for a smaller database to play with) \n",
    "# See how long it takes to export\n",
    "\n",
    "from datetime import datetime\n",
    "start_time = datetime.now()\n",
    "print(\"Started at:\", start_time)"
   ]
  },
  {
   "cell_type": "code",
   "execution_count": 21,
   "id": "3961429a",
   "metadata": {},
   "outputs": [
    {
     "name": "stderr",
     "output_type": "stream",
     "text": [
      "C:\\Users\\ftsang\\AppData\\Local\\Temp\\ipykernel_12816\\1010330283.py:1: UserWarning: Column names longer than 10 characters will be truncated when saved to ESRI Shapefile.\n",
      "  matched_path_bridge_gdf.head(10000).to_file(\n"
     ]
    }
   ],
   "source": [
    "matched_path_bridge_gdf.head(10000).to_file(\n",
    "    r\"E:\\matched_path_bridge_gdf_first10000.shp\",\n",
    "    driver=\"ESRI Shapefile\"\n",
    ")\n"
   ]
  },
  {
   "cell_type": "code",
   "execution_count": 22,
   "id": "a0168841",
   "metadata": {},
   "outputs": [
    {
     "name": "stdout",
     "output_type": "stream",
     "text": [
      "Finished at: 2025-05-12 08:21:36.266277\n",
      "Duration: 0:00:03.310302\n"
     ]
    }
   ],
   "source": [
    "end_time = datetime.now()\n",
    "print(\"Finished at:\", end_time)\n",
    "print(\"Duration:\", end_time - start_time)"
   ]
  },
  {
   "cell_type": "code",
   "execution_count": 23,
   "id": "bcfeb086",
   "metadata": {},
   "outputs": [
    {
     "name": "stdout",
     "output_type": "stream",
     "text": [
      "Started at: 2025-05-12 08:21:36.283273\n"
     ]
    }
   ],
   "source": [
    "# Export the gdf results to shapefile (so they can be visualized in Tableau)\n",
    "# See how long it takes to export\n",
    "\n",
    "from datetime import datetime\n",
    "start_time = datetime.now()\n",
    "print(\"Started at:\", start_time)"
   ]
  },
  {
   "cell_type": "code",
   "execution_count": 24,
   "id": "33107728",
   "metadata": {},
   "outputs": [
    {
     "name": "stderr",
     "output_type": "stream",
     "text": [
      "C:\\Users\\ftsang\\AppData\\Local\\Temp\\ipykernel_12816\\2422253512.py:1: UserWarning: Column names longer than 10 characters will be truncated when saved to ESRI Shapefile.\n",
      "  matched_path_bridge_gdf.to_file(\n"
     ]
    }
   ],
   "source": [
    "matched_path_bridge_gdf.to_file(\n",
    "    r\"E:\\matched_path_bridge_gdf.shp\",\n",
    "    driver=\"ESRI Shapefile\"\n",
    ")"
   ]
  },
  {
   "cell_type": "code",
   "execution_count": 25,
   "id": "7435cade",
   "metadata": {},
   "outputs": [
    {
     "name": "stdout",
     "output_type": "stream",
     "text": [
      "Finished at: 2025-05-12 09:03:53.578084\n",
      "Duration: 0:42:17.294811\n"
     ]
    }
   ],
   "source": [
    "end_time = datetime.now()\n",
    "print(\"Finished at:\", end_time)\n",
    "print(\"Duration:\", end_time - start_time)"
   ]
  }
 ],
 "metadata": {
  "kernelspec": {
   "display_name": "Python (networkwrangler)",
   "language": "python",
   "name": "networkwrangler"
  },
  "language_info": {
   "codemirror_mode": {
    "name": "ipython",
    "version": 3
   },
   "file_extension": ".py",
   "mimetype": "text/x-python",
   "name": "python",
   "nbconvert_exporter": "python",
   "pygments_lexer": "ipython3",
   "version": "3.9.18"
  }
 },
 "nbformat": 4,
 "nbformat_minor": 5
}
