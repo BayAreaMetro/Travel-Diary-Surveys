{
 "cells": [
  {
   "cell_type": "code",
   "execution_count": 1,
   "id": "6fce4916",
   "metadata": {},
   "outputs": [],
   "source": [
    "import geopandas as gpd\n",
    "import os"
   ]
  },
  {
   "cell_type": "code",
   "execution_count": 2,
   "id": "db011e39",
   "metadata": {},
   "outputs": [
    {
     "name": "stdout",
     "output_type": "stream",
     "text": [
      "Started reading matched_path_gdf at: 2025-05-06 10:47:49.267190\n"
     ]
    }
   ],
   "source": [
    "# The matched_path_gdf layer takes a while to load. Tracking the time it takes here:\n",
    "\n",
    "from datetime import datetime\n",
    "start_time = datetime.now()\n",
    "print(\"Started reading matched_path_gdf at:\", start_time)"
   ]
  },
  {
   "cell_type": "code",
   "execution_count": 3,
   "id": "5d662d36",
   "metadata": {},
   "outputs": [],
   "source": [
    "# Look at the matched_path_gdf layer\n",
    "# matched_path_gdf is the name of the layer and it is also the name of the geodataframe\n",
    "\n",
    "matched_path_gdf = gpd.read_file(\n",
    "    r\"M:\\Data\\HomeInterview\\Bay Area Travel Study 2023\\Data\\Full Weighted 2023 Dataset\\WeightedDataset_08092024\\OSM_match_v2\\tds_conflation_results.gpkg\",\n",
    "    layer=\"matched_path_gdf\"\n",
    ")\n",
    "\n",
    "# note to self: do not do matched_path_gdf.head(), as it may reveal PII data!"
   ]
  },
  {
   "cell_type": "code",
   "execution_count": 4,
   "id": "95811f0d",
   "metadata": {},
   "outputs": [
    {
     "name": "stdout",
     "output_type": "stream",
     "text": [
      "Started reading matched_path_gdf at: 2025-05-06 11:30:07.907174\n",
      "Duration: 0:42:18.639984\n"
     ]
    }
   ],
   "source": [
    "end_time = datetime.now()\n",
    "print(\"Started reading matched_path_gdf at:\", end_time)\n",
    "print(\"Duration:\", end_time - start_time)"
   ]
  },
  {
   "cell_type": "code",
   "execution_count": 5,
   "id": "0137b9f5",
   "metadata": {},
   "outputs": [
    {
     "data": {
      "text/plain": [
       "8941049"
      ]
     },
     "execution_count": 5,
     "metadata": {},
     "output_type": "execute_result"
    }
   ],
   "source": [
    "len(matched_path_gdf)"
   ]
  },
  {
   "cell_type": "code",
   "execution_count": 6,
   "id": "8b9be93a",
   "metadata": {},
   "outputs": [
    {
     "data": {
      "text/plain": [
       "secondary                              2490183\n",
       "primary                                1489085\n",
       "motorway                               1475978\n",
       "tertiary                               1325476\n",
       "residential                            1097249\n",
       "motorway_link                           473121\n",
       "trunk                                   403204\n",
       "unclassified                             66918\n",
       "primary_link                             30613\n",
       "secondary_link                           26954\n",
       "trunk_link                               23624\n",
       "busway                                   19463\n",
       "tertiary_link                             7554\n",
       "['motorway', 'trunk']                     3470\n",
       "['secondary', 'tertiary']                 1519\n",
       "['residential', 'tertiary']               1117\n",
       "['motorway', 'motorway_link']              853\n",
       "['secondary', 'motorway_link']             652\n",
       "['motorway_link', 'primary']               569\n",
       "living_street                              549\n",
       "['unclassified', 'tertiary']               433\n",
       "['secondary', 'primary']                   385\n",
       "['residential', 'unclassified']            371\n",
       "['unclassified', 'residential']            366\n",
       "['secondary', 'primary_link']              319\n",
       "['motorway_link', 'tertiary']              245\n",
       "['unclassified', 'secondary']              123\n",
       "['trunk_link', 'secondary']                111\n",
       "['tertiary', 'tertiary_link']              109\n",
       "['primary_link', 'primary']                102\n",
       "['tertiary', 'secondary_link']              71\n",
       "['motorway_link', 'secondary_link']         61\n",
       "['secondary', 'secondary_link']             59\n",
       "['residential', 'secondary']                35\n",
       "['unclassified', 'living_street']           24\n",
       "['tertiary', 'primary']                     22\n",
       "['tertiary_link', 'secondary_link']         16\n",
       "['residential', 'living_street']            13\n",
       "['living_street', 'residential']            11\n",
       "['living_street', 'unclassified']            9\n",
       "['unclassified', 'motorway_link']            8\n",
       "['living_street', 'tertiary']                3\n",
       "['trunk_link', 'primary']                    1\n",
       "['trunk_link', 'tertiary']                   1\n",
       "Name: highway, dtype: int64"
      ]
     },
     "execution_count": 6,
     "metadata": {},
     "output_type": "execute_result"
    }
   ],
   "source": [
    "matched_path_gdf[\"highway\"].value_counts()"
   ]
  },
  {
   "cell_type": "code",
   "execution_count": 7,
   "id": "ba4be6b0",
   "metadata": {},
   "outputs": [
    {
     "data": {
      "text/plain": [
       "None                  8069697\n",
       "yes                    865588\n",
       "['yes', 'movable']       2227\n",
       "viaduct                  1883\n",
       "['yes', 'viaduct']       1171\n",
       "movable                   245\n",
       "cantilever                142\n",
       "no                         96\n",
       "Name: bridge, dtype: int64"
      ]
     },
     "execution_count": 7,
     "metadata": {},
     "output_type": "execute_result"
    }
   ],
   "source": [
    "matched_path_gdf[\"bridge\"].value_counts(dropna=False)"
   ]
  },
  {
   "cell_type": "code",
   "execution_count": 17,
   "id": "b5b94ced",
   "metadata": {},
   "outputs": [],
   "source": [
    "# Create boolean column for motorway\n",
    "matched_path_gdf[\"is_motorway\"] = matched_path_gdf[\"highway\"] == \"motorway\"\n",
    "\n",
    "# Create boolean column for motorway and NOT a bridge\n",
    "matched_path_gdf[\"is_motorway_not_bridge\"] = matched_path_gdf[\"highway\"] == \"motorway\"\n"
   ]
  },
  {
   "cell_type": "code",
   "execution_count": 18,
   "id": "50746cfd",
   "metadata": {},
   "outputs": [],
   "source": [
    "# Group by trip_id and use max \n",
    "trip_motorway_booleans_df = matched_path_gdf.groupby(\"trip_id\")[[\"is_motorway\", \"is_motorway_not_bridge\"]].max().astype(int).reset_index()\n"
   ]
  },
  {
   "cell_type": "code",
   "execution_count": 19,
   "id": "6756ab2a",
   "metadata": {},
   "outputs": [],
   "source": [
    "# Rename the columns\n",
    "trip_motorway_booleans_df.rename(columns={\"is_motorway\": \"has_motorway\"}, inplace=True)\n",
    "trip_motorway_booleans_df.rename(columns  ={\"is_motorway_not_bridge\": \"has_nonBridge_motorway\"}, inplace=True)\n"
   ]
  },
  {
   "cell_type": "code",
   "execution_count": 20,
   "id": "b829e75d",
   "metadata": {},
   "outputs": [],
   "source": [
    "# Save to CSV\n",
    "BATS_data_location = r\"E:\\Box\\Modeling and Surveys\\Surveys\\Travel Diary Survey\\BATS_2023\\Data\\2023\\Full Weighted 2023 Dataset\\WeightedDataset_02212025\"\n",
    "Output_location = os.path.join(BATS_data_location, \"derived_variables\", \"trip_motorway_booleans.csv\")\n",
    "trip_motorway_booleans_df.to_csv(Output_location, index=False)"
   ]
  }
 ],
 "metadata": {
  "kernelspec": {
   "display_name": "Python (networkwrangler)",
   "language": "python",
   "name": "networkwrangler"
  },
  "language_info": {
   "codemirror_mode": {
    "name": "ipython",
    "version": 3
   },
   "file_extension": ".py",
   "mimetype": "text/x-python",
   "name": "python",
   "nbconvert_exporter": "python",
   "pygments_lexer": "ipython3",
   "version": "3.9.18"
  }
 },
 "nbformat": 4,
 "nbformat_minor": 5
}
