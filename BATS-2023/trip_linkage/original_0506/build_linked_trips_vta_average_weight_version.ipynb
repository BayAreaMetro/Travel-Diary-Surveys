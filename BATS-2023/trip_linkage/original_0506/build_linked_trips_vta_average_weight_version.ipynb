{
 "cells": [
  {
   "cell_type": "code",
   "execution_count": 1,
   "id": "05d25b63-f7b4-4003-b247-7b1fb6deb3e0",
   "metadata": {},
   "outputs": [],
   "source": [
    "# re-build linked trips from leg-based table, Yun Ma, 5/1/25\n",
    "\n",
    "# initial approaches:\n",
    "\n",
    "# 1. Sort the leg-based trip table by person_id and trip_num.\n",
    "# 2. Loop by person_id and when the first destination purpose is not ‘change mode’, a link trip is separated;\n",
    "# 3. Use the loop’s first leg’s origin-purpose, depart-time, o-lat, o-lon as the linked trip’s origin’s attributes;\n",
    "# 4. Use the loop’s last leg’s dest-purpose, arrive-time, d-lat, d-lon as the linked trip’s destination’s attributes;\n",
    "# 5. For the mode_type, a mode type priority table based on vta's model was set up; The mode type with the biggest priority among all legs within a loop was picked as the linked trip’s mode type.\n",
    "# 6. Similarly, a mode_x priority table was set up for mode_1,mode_2,mode_3, and mode_4 based on vta's model. The mode_x with the biggest priority among all legs within a loop was picked as the linked trip’s mode_x.\n",
    "# 7. Similarly, a transit access/egress priority table was set up. The transit access or egress with the biggest priority among all legs within a loop was picked as the linked trip’s transit access/egress.\n",
    "# 8. The weight of the linked trip used the average of all legs as a simple approach. Please modify to meet your needs.\n",
    "\n",
    "# The approach above worked well in most cases, but we did notice two main issues in some cases:\n",
    "\n",
    "# By using the first non-change-mode as a separator, a linked trip might last more than a day;\n",
    "# Within a linked trip, the weights are not always the same among all legs: some legs have zero weights, while others have non-zero weights. In this case, we are not comfortable using the average of all leg weights as the linked-trip weight.\n",
    "\n",
    "# By further investigation, we noticed that these issues happened because their dest-purpose were not imputed correctly: They were imputed as “change-mode”, which was probably a mistake as their reported destination purpose did have a real purpose other than change mode. It also explained why these linked trips last for days, as a real purpose to stop the loop was missed.\n",
    "# Eventually, we modified the approach in step 2: Loop by person_id, and when the first destination purpose is not ‘change mode’, or the travel day (day_num) has changed, then a linked trip is separated, and the dest_purpose was updated from the original “change-mode” with the real reported purpose.\n",
    "\n",
    "# With this fix (forcing trips to end within a day) and a clean (using reported destination to correct wrong imputed destination), there are no trips crossing days anymore,  and most weights are consistent within a linked trip."
   ]
  },
  {
   "cell_type": "code",
   "execution_count": 2,
   "id": "d6116d86",
   "metadata": {},
   "outputs": [],
   "source": [
    "import os\n",
    "import pandas as pd\n",
    "import numpy as np\n",
    "\n",
    "import warnings\n",
    "warnings.filterwarnings(action='ignore', category=FutureWarning)\n",
    "\n",
    "pd.options.mode.chained_assignment = None"
   ]
  },
  {
   "cell_type": "code",
   "execution_count": 3,
   "id": "9368e2b8-ef26-4170-b74b-cdb7e4d1c77b",
   "metadata": {},
   "outputs": [
    {
     "name": "stdout",
     "output_type": "stream",
     "text": [
      "Python 3.8.10\n",
      "1.2.5\n"
     ]
    }
   ],
   "source": [
    "! python --version\n",
    "print(pd.__version__)    # 1.2.5"
   ]
  },
  {
   "cell_type": "code",
   "execution_count": 4,
   "id": "2303d0b5-d658-4bea-a2c8-0fddb02127b5",
   "metadata": {},
   "outputs": [],
   "source": [
    "def exist(var,df):\n",
    "    if var in df.columns:\n",
    "        print ('exist')\n",
    "    else:\n",
    "        print(\"Not exist\")\n",
    "\n",
    "def col_contain(str,df):\n",
    "    contain = df.columns.str.contains(str) \n",
    "    match_col = df.columns[contain]\n",
    "    return(match_col)\n",
    "\n",
    "def remove_list(old_list,remove):\n",
    "    new_list = [element for element in old_list if element not in remove]\n",
    "    return(new_list)\n",
    "\n",
    "def remove_subs(s,sub):\n",
    "    return s.replace(sub, '')"
   ]
  },
  {
   "cell_type": "code",
   "execution_count": 5,
   "id": "d496277c",
   "metadata": {},
   "outputs": [],
   "source": [
    "# 0.1 read correspondence\n",
    "\n",
    "lookup_mode_type = pd.read_csv(r'..\\corres\\trip\\lookup_mode_type.csv')\n",
    "lookup_mode1 = pd.read_csv(r'..\\corres\\trip\\lookup_mode_1.csv')\n",
    "lookup_mode2 = pd.read_csv(r'..\\corres\\trip\\lookup_mode_2.csv')\n",
    "lookup_mode3 = pd.read_csv(r'..\\corres\\trip\\lookup_mode_3.csv')\n",
    "lookup_mode4 = pd.read_csv(r'..\\corres\\trip\\lookup_mode_4.csv')\n",
    "\n",
    "lookup_o_purpose_reported = pd.read_csv(r'..\\corres\\trip\\lookup_o_purpose_reported.csv')\n",
    "lookup_d_purpose_reported = pd.read_csv(r'..\\corres\\trip\\lookup_d_purpose_reported.csv')\n",
    "\n",
    "lookup_o_purpose = pd.read_csv(r'..\\corres\\trip\\lookup_o_purpose.csv')\n",
    "lookup_d_purpose = pd.read_csv(r'..\\corres\\trip\\lookup_d_purpose.csv')\n",
    "\n",
    "lookup_o_purpose_category = pd.read_csv(r'..\\corres\\trip\\lookup_o_purpose_category.csv')\n",
    "lookup_d_purpose_category = pd.read_csv(r'..\\corres\\trip\\lookup_d_purpose_category.csv')\n",
    "\n",
    "lookup_transit_access = pd.read_csv(r'..\\corres\\trip\\lookup_transit_access.csv')\n",
    "lookup_transit_egress = pd.read_csv(r'..\\corres\\trip\\lookup_transit_egress.csv')\n",
    "\n",
    "lookup_link_transit_access = pd.read_csv(r'..\\corres\\trip\\lookup_link_transit_access.csv')\n",
    "lookup_link_transit_egress = pd.read_csv(r'..\\corres\\trip\\lookup_link_transit_egress.csv')\n",
    "\n",
    "lookup_modex_vta = pd.read_csv(r'..\\corres\\trip\\lookup_mode_x_vta.csv')\n",
    "\n",
    "# 0.2 read raw dataset from latest delivery\n",
    "\n",
    "trip = pd.read_csv(r'..\\dataset\\WeightedDataset_02212025\\trip.csv')               # 365830, 107 "
   ]
  },
  {
   "cell_type": "code",
   "execution_count": 6,
   "id": "9a81b044",
   "metadata": {},
   "outputs": [],
   "source": [
    "# 1. merge/add new attributes\n",
    "\n",
    "# 1.1 lookup mode_type\n",
    "trip = trip.merge(lookup_mode_type[['mode_type',    'mode_type_priority']],how='left')\n",
    "\n",
    "trip = trip.merge(lookup_mode1[['mode_1','mode_1_des','mode_1_vta','mode_1_vta_des']],how = 'left')\n",
    "trip = trip.merge(lookup_mode2[['mode_2','mode_2_des','mode_2_vta','mode_2_vta_des']],how = 'left')\n",
    "trip = trip.merge(lookup_mode3[['mode_3','mode_3_des','mode_3_vta','mode_3_vta_des']],how = 'left')\n",
    "trip = trip.merge(lookup_mode4[['mode_4','mode_4_des','mode_4_vta','mode_4_vta_des']],how = 'left')\n",
    "\n",
    "# 1.2 lookup access/egress\n",
    "trip = trip.merge(lookup_transit_access[['transit_access','transit_access_des','transit_access_vta','transit_access_vta_des']],how='left')\n",
    "trip = trip.merge(lookup_transit_egress[['transit_egress','transit_egress_des','transit_egress_vta','transit_egress_vta_des']],how='left')\n",
    "\n",
    "# 1.3 lookup purpose\n",
    "trip = trip.merge(lookup_d_purpose[['d_purpose','d_purpose_des']],how = 'left')\n",
    "trip = trip.merge(lookup_d_purpose_category[['d_purpose_category','d_purpose_category_des']],how = 'left')\n",
    "trip = trip.merge(lookup_d_purpose_reported[['d_purpose_reported','d_purpose_reported_des','d_purpose_reported_priority','d_purpose_reported_priority_des']],how = 'left')\n",
    "\n",
    "trip = trip.merge(lookup_o_purpose[['o_purpose','o_purpose_des']],how = 'left')\n",
    "trip = trip.merge(lookup_o_purpose_category[['o_purpose_category','o_purpose_category_des']],how = 'left')\n",
    "trip = trip.merge(lookup_o_purpose_reported[['o_purpose_reported','o_purpose_reported_des','o_purpose_reported_priority','o_purpose_reported_priority_des']],how = 'left')"
   ]
  },
  {
   "cell_type": "code",
   "execution_count": 7,
   "id": "36d309ab-e1e1-4e65-96f1-c034861441f7",
   "metadata": {},
   "outputs": [
    {
     "data": {
      "text/plain": [
       "(365830, 138)"
      ]
     },
     "execution_count": 7,
     "metadata": {},
     "output_type": "execute_result"
    }
   ],
   "source": [
    "# 1.2 combine datetime\n",
    "trip['depart_datetime'] = pd.to_datetime(trip['depart_date'].astype(str) +' '+ \n",
    "                                         trip['depart_hour'].astype(str) + ':' + \n",
    "                                         trip['depart_minute'].astype(str) + ':' + \n",
    "                                         trip['depart_seconds'].astype(str), format='%Y-%m-%d %H:%M:%S')\n",
    "trip['arrive_datetime'] = pd.to_datetime(trip['arrive_date'].astype(str) +' '+ \n",
    "                                         trip['arrive_hour'].astype(str) + ':' + \n",
    "                                         trip['arrive_minute'].astype(str) + ':' + \n",
    "                                         trip['arrive_second'].astype(str), format='%Y-%m-%d %H:%M:%S')\n",
    "\n",
    "trip.shape"
   ]
  },
  {
   "cell_type": "code",
   "execution_count": 8,
   "id": "d297c4f4",
   "metadata": {},
   "outputs": [
    {
     "name": "stdout",
     "output_type": "stream",
     "text": [
      "(306147, 138)\n",
      "(59683, 138)\n"
     ]
    }
   ],
   "source": [
    "# 2. split trips into 2 parts to save linkage processing time\n",
    "\n",
    "# select trip-legs having no transfer purpose: 306147, each is individual trip with real purpose\n",
    "trip_s0 = trip[ (trip['o_purpose_category'] != 11)  & (trip['d_purpose_category'] != 11)]\n",
    "print(trip_s0.shape)\n",
    "\n",
    "# select trip-legs with transfer purpose: 59683, which need to be linked\n",
    "trip_s1 = trip[ (trip['o_purpose_category'] == 11)  | (trip['d_purpose_category'] == 11)]\n",
    "print(trip_s1.shape)"
   ]
  },
  {
   "cell_type": "code",
   "execution_count": 9,
   "id": "2093a41d",
   "metadata": {},
   "outputs": [],
   "source": [
    "# 3. process trip_s1 : 59683 tansfer legs need to be linked"
   ]
  },
  {
   "cell_type": "code",
   "execution_count": 10,
   "id": "e0aac566",
   "metadata": {},
   "outputs": [],
   "source": [
    "# # 3.0 define least key variables used in the linkage process\n",
    "\n",
    "C_id = ['hh_id','person_id','trip_id','person_num','trip_num','day_num']\n",
    "\n",
    "C_purp = ['o_purpose_category','d_purpose_category','o_purpose_reported_priority','d_purpose_reported_priority',\n",
    "          'o_purpose','d_purpose']\n",
    "C_time = ['depart_datetime','arrive_datetime']\n",
    "C_mode = ['mode_type_priority','mode_1_vta','mode_2_vta','mode_3_vta','mode_4_vta']\n",
    "C_access = ['transit_access_vta','transit_egress_vta']\n",
    "\n",
    "C_wt =   ['trip_weight','trip_weight_rmove_only']\n",
    "\n",
    "C_od =   ['o_lat','o_lon','d_lat','d_lon','o_county', 'd_county']\n",
    "C_oth =  ['distance_miles','duration_minutes','dwell_mins']\n",
    "\n",
    "C_key = C_purp + C_time + C_mode + C_access+ C_od + C_wt + C_oth\n",
    "C_key_link = [\"link_\" + key for key in C_key]\n",
    "\n",
    "C_flag = ['link_day','link_num','leg_num','leg_delete']\n",
    "\n",
    "C_last = ['d_purpose_category','d_purpose','arrive_datetime','d_lat','d_lon','d_county']\n",
    "C_last_link = [\"link_\" + key for key in C_last]                                   # will replace C_key_link\n",
    "\n",
    "C_other = C_wt + C_oth\n",
    "C_other_sum = [\"sum_\" + key for key in C_other]\n",
    "\n",
    "dictKey = dict(zip(C_key,C_key_link))\n",
    "dictLast = dict(zip(C_last,C_last_link))\n",
    "dictSum = dict(zip(C_other,C_other_sum)) "
   ]
  },
  {
   "cell_type": "code",
   "execution_count": 11,
   "id": "7cddfc8b",
   "metadata": {},
   "outputs": [],
   "source": [
    "# 3.1 sort trip (trips must be sorted before linking!)\n",
    "\n",
    "trip_s1.fillna(0, inplace=True)\n",
    "trip_s1 = trip_s1.sort_values(by=['hh_id','person_id','trip_num'])"
   ]
  },
  {
   "cell_type": "code",
   "execution_count": 12,
   "id": "7af449c5-a0c4-4c31-b9b3-3d420284c6ee",
   "metadata": {},
   "outputs": [],
   "source": [
    "# 3.2 merge transfer legs to linked trip_s1s for trip_s1s crossing multip days\n",
    "\n",
    "# initial\n",
    "for item in C_key_link:\n",
    "    trip_s1.loc[:,item] = 0.0\n",
    "\n",
    "for item in C_flag:\n",
    "    trip_s1.loc[:,item] = 0\n",
    "\n",
    "i = 0\n",
    "link_pid = 0\n",
    "link_day = 0\n",
    "link_num = 0\n",
    "\n",
    "# loop\n",
    "while i < len(trip_s1):\n",
    "    \n",
    "    person_id = trip_s1.iloc[i,trip_s1.columns.get_loc('person_id')]\n",
    "    day_num = trip_s1.iloc[i,trip_s1.columns.get_loc('day_num')] \n",
    "\n",
    "    if (person_id == link_pid):\n",
    "        link_num += 1\n",
    "    else:\n",
    "        link_num = 1\n",
    "        link_pid = person_id\n",
    "        link_day = day_num        \n",
    "\n",
    "    # initial for all trips including independent trips with one leg only    \n",
    "    for item in dictKey:    \n",
    "        trip_s1.iloc[i,trip_s1.columns.get_loc(dictKey[item])] = trip_s1.iloc[i,trip_s1.columns.get_loc(item)]  \n",
    "    trip_s1.iloc[i,trip_s1.columns.get_loc('link_num')] = link_num\n",
    "    trip_s1.iloc[i,trip_s1.columns.get_loc('link_day')] = link_day\n",
    "    \n",
    "    if (trip_s1.iloc[i,trip_s1.columns.get_loc('d_purpose_category')] !=11):        \n",
    "        i += 1\n",
    "        continue\n",
    "    \n",
    "    j = 1\n",
    "    for item in C_other:\n",
    "        exec('sum_'+item + '=' + \"trip_s1.iloc[i,trip_s1.columns.get_loc('\" + item + \"')]\")\n",
    "\n",
    "                           \n",
    "    while ((trip_s1.iloc[(i+j),trip_s1.columns.get_loc('person_id')] == person_id) & \\\n",
    "           (trip_s1.iloc[(i+j),trip_s1.columns.get_loc('day_num')] == day_num)):\n",
    "\n",
    "        # use last leg's 'd_purpose_category','d_purpose'... as real purpose\n",
    "        for item in dictLast:\n",
    "            trip_s1.iloc[i,trip_s1.columns.get_loc(dictLast[item])] = trip_s1.iloc[(i+j),trip_s1.columns.get_loc(item)]\n",
    "        \n",
    "        # mode priority\n",
    "        if trip_s1['mode_type_priority'].iloc[i+j] < trip_s1['link_mode_type_priority'].iloc[i]:\n",
    "            trip_s1['link_mode_type_priority'].iloc[i] = trip_s1['mode_type_priority'].iloc[i+j]\n",
    "            \n",
    "        # mode_x\n",
    "        if trip_s1['mode_1_vta'].iloc[i+j] < trip_s1['link_mode_1_vta'].iloc[i]:\n",
    "            trip_s1['link_mode_1_vta'].iloc[i] = trip_s1['mode_1_vta'].iloc[i+j]\n",
    "            \n",
    "        if trip_s1['mode_2_vta'].iloc[i+j] < trip_s1['link_mode_2_vta'].iloc[i]:\n",
    "            trip_s1['link_mode_2_vta'].iloc[i] = trip_s1['mode_2_vta'].iloc[i+j]\n",
    "\n",
    "        if trip_s1['mode_3_vta'].iloc[i+j] < trip_s1['link_mode_3_vta'].iloc[i]:\n",
    "            trip_s1['link_mode_3_vta'].iloc[i] = trip_s1['mode_3_vta'].iloc[i+j]        \n",
    "\n",
    "        if trip_s1['mode_4_vta'].iloc[i+j] < trip_s1['link_mode_4_vta'].iloc[i]:\n",
    "            trip_s1['link_mode_4_vta'].iloc[i] = trip_s1['mode_4_vta'].iloc[i+j]  \n",
    "\n",
    "        # transit access\n",
    "        if trip_s1['transit_access_vta'].iloc[i+j] < trip_s1['transit_access_vta'].iloc[i]:\n",
    "            trip_s1['link_transit_access_vta'].iloc[i] = trip_s1['transit_access_vta'].iloc[i+j]\n",
    "            \n",
    "        if trip_s1['transit_egress_vta'].iloc[i+j] < trip_s1['transit_egress_vta'].iloc[i]:\n",
    "            trip_s1['link_transit_egress_vta'].iloc[i] = trip_s1['transit_egress_vta'].iloc[i+j]            \n",
    "        \n",
    "        # o_purpose: link_o_purpose_reported_priority to be used later as the new real o_purpose, if link_o_purpose_category == 11 \n",
    "        if trip_s1['o_purpose_reported_priority'].iloc[i+j] < trip_s1['link_o_purpose_reported_priority'].iloc[i]:\n",
    "            trip_s1['link_o_purpose_reported_priority'].iloc[i] = trip_s1['o_purpose_reported_priority'].iloc[i+j]\n",
    "            \n",
    "        # d_purpose: will be used later as the real d_purpose, if link_d_purpose_category == 11    \n",
    "        if trip_s1['d_purpose_reported_priority'].iloc[i+j] < trip_s1['link_d_purpose_reported_priority'].iloc[i]:\n",
    "            trip_s1['link_d_purpose_reported_priority'].iloc[i] = trip_s1['d_purpose_reported_priority'].iloc[i+j]        \n",
    "        \n",
    "        #sum_other\n",
    "        for item in C_other:\n",
    "            exec('sum_'+item + '=' + 'sum_'+item  + \" + trip_s1.iloc[(i+j),trip_s1.columns.get_loc('\" + item + \"')]\")\n",
    "         \n",
    "        # assign weight/oth    \n",
    "        trip_s1.iloc[i,trip_s1.columns.get_loc('link_trip_weight')] = sum_trip_weight/(j+1)\n",
    "        trip_s1.iloc[i,trip_s1.columns.get_loc('link_trip_weight_rmove_only')] = sum_trip_weight_rmove_only/(j+1)\n",
    "        trip_s1.iloc[i,trip_s1.columns.get_loc('link_distance_miles')] = sum_distance_miles \n",
    "        trip_s1.iloc[i,trip_s1.columns.get_loc('link_duration_minutes')] = sum_duration_minutes\n",
    "        trip_s1.iloc[i,trip_s1.columns.get_loc('link_dwell_mins')] = sum_dwell_mins               \n",
    "        \n",
    "        \n",
    "        # add flags\n",
    "        trip_s1.iloc[(i+j),trip_s1.columns.get_loc('leg_delete')] = 1\n",
    "        trip_s1.iloc[(i+j),trip_s1.columns.get_loc('link_num')] = link_num\n",
    "        trip_s1.iloc[(i+j),trip_s1.columns.get_loc('leg_num')] = j\n",
    "        trip_s1.iloc[(i+j),trip_s1.columns.get_loc('link_day')] = link_day\n",
    "        \n",
    "        if trip_s1.iloc[(i+j),trip_s1.columns.get_loc('d_purpose_category')] != 11:            \n",
    "            j += 1\n",
    "            break\n",
    "        j += 1   \n",
    "        continue\n",
    "\n",
    "    i = i + j\n",
    "    continue\n",
    "\n"
   ]
  },
  {
   "cell_type": "code",
   "execution_count": 13,
   "id": "b6f91d5c-3d4f-4a9a-abca-340d1b6ebbb7",
   "metadata": {},
   "outputs": [],
   "source": [
    "# 3.3.1 lookup link_mode_type_priority -> link_mode_type,link_mode_x_vta_des\n",
    "trip_s1_m = trip_s1.merge(lookup_mode_type[['link_mode_type_priority','link_mode_type','link_mode_type_des']],how='left') \n",
    "\n",
    "# 3.3.2 lookup link_transit_access -> link_transit_access_vta_des\n",
    "trip_s1_m = trip_s1_m.merge(lookup_link_transit_access[['link_transit_access_vta','link_transit_access_vta_des']],how='left') \n",
    "trip_s1_m = trip_s1_m.merge(lookup_link_transit_egress[['link_transit_egress_vta','link_transit_egress_vta_des']],how='left')\n",
    "\n",
    "# 3.3.3 modify link_x_purpose, link_x_purpose_category\n",
    "# if link_x_purpose_category == 11, use link_x_purpose_new based on link_reported_priority as new real purpose\n",
    "# 3.3.3.1 \n",
    "trip_s1_m=trip_s1_m.merge(lookup_o_purpose_reported[['link_o_purpose_reported_priority',\n",
    "                                                     'link_o_purpose_category_new',\n",
    "                                                     'link_o_purpose_new',\n",
    "                                                     'link_o_purpose_reported']],how='left')   \n",
    "trip_s1_m=trip_s1_m.merge(lookup_d_purpose_reported[['link_d_purpose_reported_priority',\n",
    "                                                     'link_d_purpose_category_new',\n",
    "                                                     'link_d_purpose_new',\n",
    "                                                     'link_d_purpose_reported']],how='left')\n",
    "\n",
    "# 3.3.3.2 update link_d_purpose using _new for transfer links (11) \n",
    "trip_s1_m['link_o_purpose_category'] = np.where(trip_s1_m['link_o_purpose_category'] == 11,\n",
    "                                       trip_s1_m['link_o_purpose_category_new'],\n",
    "                                       trip_s1_m['link_o_purpose_category'])\n",
    "trip_s1_m['link_d_purpose_category'] = np.where(trip_s1_m['link_d_purpose_category'] == 11,\n",
    "                                       trip_s1_m['link_d_purpose_category_new'],\n",
    "                                       trip_s1_m['link_d_purpose_category'])\n",
    "\n",
    "trip_s1_m['link_o_purpose'] = np.where(trip_s1_m['link_o_purpose'] == 60,\n",
    "                                       trip_s1_m['link_o_purpose_new'],\n",
    "                                       trip_s1_m['link_o_purpose'])\n",
    "trip_s1_m['link_d_purpose'] = np.where(trip_s1_m['link_d_purpose'] == 60,\n",
    "                                       trip_s1_m['link_d_purpose_new'],\n",
    "                                       trip_s1_m['link_d_purpose'])"
   ]
  },
  {
   "cell_type": "code",
   "execution_count": 14,
   "id": "e607f54f",
   "metadata": {},
   "outputs": [],
   "source": [
    "# 4.0 define filter columns\n",
    " \n",
    "C_o_purp = ['o_purpose_category','o_purpose','o_purpose_reported']\n",
    "C_d_purp = ['d_purpose_category','d_purpose','d_purpose_reported']\n",
    "C_od_purp = C_o_purp + C_d_purp\n",
    "\n",
    "C_mode_type = ['mode_type']\n",
    "C_mode_x = ['mode_1','mode_2','mode_3','mode_4']\n",
    "C_mode_x_vta = ['mode_1_vta','mode_2_vta','mode_3_vta','mode_4_vta']\n",
    "C_mode_all = C_mode_type + C_mode_x_vta\n",
    "\n",
    "C_access_egress = ['transit_access_vta','transit_egress_vta']\n",
    "\n",
    "C_filter_unlink = C_time + C_od_purp + C_mode_all + C_access_egress + C_wt + C_od + C_oth\n",
    "C_filter_link = [\"link_\" + key for key in C_filter_unlink]\n",
    "C_filter_link_unlink = dict(zip(C_filter_link,C_filter_unlink))\n",
    "\n",
    "C_filter = C_id + C_filter_link + C_flag"
   ]
  },
  {
   "cell_type": "code",
   "execution_count": 15,
   "id": "ea02ad09",
   "metadata": {},
   "outputs": [
    {
     "data": {
      "text/plain": [
       "(59683, 36)"
      ]
     },
     "execution_count": 15,
     "metadata": {},
     "output_type": "execute_result"
    }
   ],
   "source": [
    "# 4.1 output linked trip_s1 with all legs and flags, filter=36\n",
    "\n",
    "trip_s1 = trip_s1_m.filter(items=C_filter)\n",
    "trip_s1.to_csv(r'..\\output\\0501\\Combine_from_legs_to_links_with_all_legs_n_flags_filter_59683x36.csv',index=False)\n",
    "trip_s1.shape"
   ]
  },
  {
   "cell_type": "code",
   "execution_count": 16,
   "id": "fe5e3fe7-f007-4ee7-8ee1-f8b76880efa4",
   "metadata": {},
   "outputs": [
    {
     "data": {
      "text/plain": [
       "(17958, 37)"
      ]
     },
     "execution_count": 16,
     "metadata": {},
     "output_type": "execute_result"
    }
   ],
   "source": [
    "# 4.2 create distinct trip_s1_linked, by remove ['leg_delete'] == 1\n",
    "\n",
    "trip_s1_linked = trip_s1[trip_s1['leg_delete'] == 0]\n",
    "trip_s1_linked.loc[:,'link_flag'] = \"Y\"\n",
    "trip_s1_linked.to_csv(r'..\\output\\0501\\linked_trips_only_built_from_legs_17735x37.csv',index=False)\n",
    "trip_s1_linked.shape"
   ]
  },
  {
   "cell_type": "code",
   "execution_count": 17,
   "id": "37ed3501",
   "metadata": {},
   "outputs": [
    {
     "data": {
      "text/plain": [
       "(17958, 37)"
      ]
     },
     "execution_count": 17,
     "metadata": {},
     "output_type": "execute_result"
    }
   ],
   "source": [
    "# 4.3 create trip_s1_unlink by rename\n",
    "\n",
    "trip_s1_linked_rename = trip_s1_linked.copy()\n",
    "trip_s1_linked_rename = trip_s1_linked_rename.rename(columns=C_filter_link_unlink)\n",
    "\n",
    "trip_s1_linked_rename.to_csv(r'..\\output\\0501\\linked_trips_only_built_from_legs_rename_17735x37.csv',index=False)\n",
    "trip_s1_linked_rename.shape"
   ]
  },
  {
   "cell_type": "code",
   "execution_count": 18,
   "id": "252addbd",
   "metadata": {},
   "outputs": [
    {
     "data": {
      "text/plain": [
       "(306147, 36)"
      ]
     },
     "execution_count": 18,
     "metadata": {},
     "output_type": "execute_result"
    }
   ],
   "source": [
    "# 5.0 process trip_s0 by filter columns\n",
    "\n",
    "trip_s0.shape    # 306147, 139\n",
    "\n",
    "C_s1_columns = trip_s1_linked_rename.columns.tolist()\n",
    "trip_s0_filter = trip_s0.filter(items=C_s1_columns)\n",
    "\n",
    "trip_s0_filter.loc[:,'link_flag'] = \"N\"\n",
    "trip_s0_filter.loc[:,'link_num'] = 0\n",
    "trip_s0_filter.loc[:,'leg_num'] = 999\n",
    "trip_s0_filter.loc[:,'leg_delete'] = \"NA\"\n",
    "\n",
    "trip_s0_filter.shape"
   ]
  },
  {
   "cell_type": "code",
   "execution_count": 19,
   "id": "ac627e7b",
   "metadata": {},
   "outputs": [
    {
     "data": {
      "text/plain": [
       "(324105, 37)"
      ]
     },
     "execution_count": 19,
     "metadata": {},
     "output_type": "execute_result"
    }
   ],
   "source": [
    "# 5.1 append trip_s1 linked trips with trip_s0 filter\n",
    "\n",
    "trip_s01 = pd.concat([trip_s1_linked_rename,trip_s0_filter])\n",
    "trip_s01.to_csv(r'..\\output\\0501\\final_output_with_all_linked_n_individual_trips_324105x38.csv',index=False)\n",
    "trip_s01.shape"
   ]
  },
  {
   "cell_type": "code",
   "execution_count": 28,
   "id": "0eca172c",
   "metadata": {},
   "outputs": [],
   "source": [
    "### end of trip-linkage ###"
   ]
  }
 ],
 "metadata": {
  "kernelspec": {
   "display_name": "Python 3",
   "language": "python",
   "name": "python3"
  },
  "language_info": {
   "codemirror_mode": {
    "name": "ipython",
    "version": 3
   },
   "file_extension": ".py",
   "mimetype": "text/x-python",
   "name": "python",
   "nbconvert_exporter": "python",
   "pygments_lexer": "ipython3",
   "version": "3.8.10"
  }
 },
 "nbformat": 4,
 "nbformat_minor": 5
}
